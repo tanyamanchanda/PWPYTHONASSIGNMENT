{
 "cells": [
  {
   "cell_type": "markdown",
   "id": "873fd2a9-205c-4275-ae34-63f4df40b924",
   "metadata": {},
   "source": [
    "Q1. Explain Class and Object with respect to Object-Oriented Programming. Give a suitable example."
   ]
  },
  {
   "cell_type": "markdown",
   "id": "562850b3-8556-4110-b7f6-ea7c2fb57e04",
   "metadata": {},
   "source": [
    "Class:\n",
    "A class is a blueprint or a template that defines the attributes (data) and behaviors (methods) that objects of that class will have. It serves as a blueprint for creating instances or objects.\n",
    "It encapsulates data and functions that are related to a specific concept or entity.\n",
    "A class defines the common characteristics and behaviors that objects of that class will possess.\n",
    "Object:\n",
    "An object is an instance of a class. It is a concrete entity that is created based on the blueprint defined by the class.\n",
    "An object has its own unique state (attribute values) and behavior (method implementations) defined by the class it belongs to.\n",
    "Objects can interact with each other by invoking methods and accessing attributes of other objects."
   ]
  },
  {
   "cell_type": "code",
   "execution_count": 1,
   "id": "4aa15f91-2e25-46c8-9a15-cd47e92fb26e",
   "metadata": {},
   "outputs": [
    {
     "name": "stdout",
     "output_type": "stream",
     "text": [
      "Toyota\n",
      "Accord\n",
      "Engine started.\n",
      "Engine stopped.\n"
     ]
    }
   ],
   "source": [
    "class Car:\n",
    "    def __init__(self, make, model, year):\n",
    "        self.make = make\n",
    "        self.model = model\n",
    "        self.year = year\n",
    "\n",
    "    def start_engine(self):\n",
    "        print(\"Engine started.\")\n",
    "\n",
    "    def stop_engine(self):\n",
    "        print(\"Engine stopped.\")\n",
    "\n",
    "# Creating objects of the Car class\n",
    "car1 = Car(\"Toyota\", \"Camry\", 2022)\n",
    "car2 = Car(\"Honda\", \"Accord\", 2021)\n",
    "\n",
    "# Accessing attributes of car1 and car2\n",
    "print(car1.make)  # Output: Toyota\n",
    "print(car2.model)  # Output: Accord\n",
    "\n",
    "# Invoking methods on car1 and car2\n",
    "car1.start_engine()  \n",
    "car2.stop_engine()  \n"
   ]
  },
  {
   "cell_type": "markdown",
   "id": "0f7a11ef-a8aa-44bd-8b4a-110dfa3eb441",
   "metadata": {},
   "source": [
    "Q2. Name the four pillars of OOPs."
   ]
  },
  {
   "cell_type": "code",
   "execution_count": null,
   "id": "c710ebcf-d3dd-40bf-91b5-8b85eaf9ed46",
   "metadata": {},
   "outputs": [],
   "source": [
    "Encapsulation,Inheritance,Polymorphism,Abstraction"
   ]
  },
  {
   "cell_type": "markdown",
   "id": "2c302aca-0a79-47df-89cd-37d450108502",
   "metadata": {},
   "source": [
    "Q3. Explain why the __init__() function is used. Give a suitable example."
   ]
  },
  {
   "cell_type": "markdown",
   "id": "40246866-06c0-4b59-9170-d5805c1eceda",
   "metadata": {},
   "source": [
    "The __init__() function, also known as the constructor method, is a special method in Python classes. It is automatically called when an object is created from a class. Its purpose is to initialize the object's attributes or state."
   ]
  },
  {
   "cell_type": "code",
   "execution_count": 2,
   "id": "eb1cf1e7-384c-4992-b649-8d3da372614a",
   "metadata": {},
   "outputs": [
    {
     "name": "stdout",
     "output_type": "stream",
     "text": [
      "Name: John Doe, Age: 25\n",
      "Name: Jane Smith, Age: 30\n"
     ]
    }
   ],
   "source": [
    "class Person:\n",
    "    def __init__(self, name, age):\n",
    "        self.name = name\n",
    "        self.age = age\n",
    "\n",
    "    def display_info(self):\n",
    "        print(f\"Name: {self.name}, Age: {self.age}\")\n",
    "\n",
    "# Creating objects of the Person class\n",
    "person1 = Person(\"John Doe\", 25)\n",
    "person2 = Person(\"Jane Smith\", 30)\n",
    "\n",
    "# Displaying information about the persons\n",
    "person1.display_info()  # Output: Name: John Doe, Age: 25\n",
    "person2.display_info()  # Output: Name: Jane Smith, Age: 30"
   ]
  },
  {
   "cell_type": "markdown",
   "id": "15b0fc98-61af-4c4d-87e8-02fb91dad2fe",
   "metadata": {},
   "source": [
    "Q4. Why self is used in OOPs?"
   ]
  },
  {
   "cell_type": "markdown",
   "id": "d2f405ae-b2f6-417e-b4ca-c8c26f63ff5b",
   "metadata": {},
   "source": [
    "In object-oriented programming (OOP), self is a conventionally used parameter name that refers to the instance of a class. It is a reference to the current object on which a method is being called.\n",
    "Object Context: In OOP, methods are defined within classes to operate on the attributes and behavior of objects. The self parameter allows a method to access and manipulate the instance variables (attributes) of the object it is called on. It provides a way to refer to the specific instance of the class that the method is being called on.\n",
    "\n",
    "Attribute Access: By using self, methods can access and modify the attributes of an object. When an attribute is accessed or modified within a method using self.attribute_name, it ensures that the correct attribute of the current object is being referred to. This allows for proper encapsulation and the ability to work with object-specific data.\n",
    "\n",
    "Method Invocation: Using self, methods can be invoked on an object by calling self.method_name(). It allows the method to be executed within the context of the object it belongs to, enabling the method to access and manipulate the object's state.\n",
    "\n",
    "Differentiating Instance and Local Variables: self helps differentiate between instance variables and local variables within a method. Instance variables are accessed using self.attribute_name, while local variables are accessed without self. This distinction is crucial to avoid variable shadowing and ensure that the correct variable is being accessed."
   ]
  },
  {
   "cell_type": "markdown",
   "id": "9183b84e-1789-4f55-8916-e4a62d10fdf7",
   "metadata": {},
   "source": [
    "Q5. What is inheritance? Give an example for each type of inheritance."
   ]
  },
  {
   "cell_type": "markdown",
   "id": "b451bcfb-5dc4-4b3e-b41d-a0cd9accad4d",
   "metadata": {},
   "source": [
    "Inheritance is a fundamental concept in object-oriented programming (OOP) that allows a class to inherit properties and behaviors from another class. The class that inherits from another class is called the derived class, subclass, or child class, and the class being inherited from is called the base class, superclass, or parent class. Inheritance enables code reuse, extensibility, and the establishment of a hierarchical relationship between classes."
   ]
  },
  {
   "cell_type": "code",
   "execution_count": 3,
   "id": "8e3218e6-b838-417f-b07b-8634efc3a49c",
   "metadata": {},
   "outputs": [
    {
     "name": "stdout",
     "output_type": "stream",
     "text": [
      "Animal makes a sound.\n",
      "Cat purrs.\n"
     ]
    }
   ],
   "source": [
    "#Single inheritance involves a class inheriting from a single base class.\n",
    "class Animal:\n",
    "    def sound(self):\n",
    "        print(\"Animal makes a sound.\")\n",
    "\n",
    "class Cat(Animal):\n",
    "    def purr(self):\n",
    "        print(\"Cat purrs.\")\n",
    "\n",
    "cat = Cat()\n",
    "cat.sound()  # Output: Animal makes a sound.\n",
    "cat.purr()  # Output: Cat purrs."
   ]
  },
  {
   "cell_type": "code",
   "execution_count": 4,
   "id": "c9d0e713-5241-4e07-b1b1-6974c695e381",
   "metadata": {},
   "outputs": [
    {
     "name": "stdout",
     "output_type": "stream",
     "text": [
      "Mammal feeds milk.\n",
      "Animal makes a sound.\n",
      "Dog barks.\n"
     ]
    }
   ],
   "source": [
    "#Multiple inheritance involves a class inheriting from multiple base classes.\n",
    "class Mammal:\n",
    "    def feed_milk(self):\n",
    "        print(\"Mammal feeds milk.\")\n",
    "\n",
    "class Animal:\n",
    "    def sound(self):\n",
    "        print(\"Animal makes a sound.\")\n",
    "\n",
    "class Dog(Mammal, Animal):\n",
    "    def bark(self):\n",
    "        print(\"Dog barks.\")\n",
    "\n",
    "dog = Dog()\n",
    "dog.feed_milk()  # Output: Mammal feeds milk.\n",
    "dog.sound()  # Output: Animal makes a sound.\n",
    "dog.bark()  # Output: Dog barks.\n"
   ]
  },
  {
   "cell_type": "code",
   "execution_count": 5,
   "id": "6f356bb7-401a-4589-8e32-545c1f8254e8",
   "metadata": {},
   "outputs": [
    {
     "name": "stdout",
     "output_type": "stream",
     "text": [
      "Vehicle is driven.\n",
      "Car started.\n",
      "Sports car accelerating.\n"
     ]
    }
   ],
   "source": [
    "#Multilevel inheritance involves a class inheriting from a derived class, forming a hierarchy of classes.\n",
    "class Vehicle:\n",
    "    def drive(self):\n",
    "        print(\"Vehicle is driven.\")\n",
    "\n",
    "class Car(Vehicle):\n",
    "    def start(self):\n",
    "        print(\"Car started.\")\n",
    "\n",
    "class SportsCar(Car):\n",
    "    def accelerate(self):\n",
    "        print(\"Sports car accelerating.\")\n",
    "\n",
    "sports_car = SportsCar()\n",
    "sports_car.drive()  # Output: Vehicle is driven.\n",
    "sports_car.start()  # Output: Car started.\n",
    "sports_car.accelerate()  # Output: Sports car accelerating.\n"
   ]
  },
  {
   "cell_type": "code",
   "execution_count": 6,
   "id": "0cec63df-956d-4d25-b862-da1213cc815e",
   "metadata": {},
   "outputs": [
    {
     "name": "stdout",
     "output_type": "stream",
     "text": [
      "Circle is drawn.\n",
      "Square is drawn.\n"
     ]
    }
   ],
   "source": [
    "#Hierarchical inheritance involves multiple derived classes inheriting from a single base class.\n",
    "class Shape:\n",
    "    def draw(self):\n",
    "        print(\"Shape is drawn.\")\n",
    "\n",
    "class Circle(Shape):\n",
    "    def draw(self):\n",
    "        print(\"Circle is drawn.\")\n",
    "\n",
    "class Square(Shape):\n",
    "    def draw(self):\n",
    "        print(\"Square is drawn.\")\n",
    "\n",
    "circle = Circle()\n",
    "circle.draw()  # Output: Circle is drawn.\n",
    "\n",
    "square = Square()\n",
    "square.draw()  # Output: Square is drawn.\n"
   ]
  },
  {
   "cell_type": "code",
   "execution_count": null,
   "id": "9650cf83-620d-4323-b276-cade06b52878",
   "metadata": {},
   "outputs": [],
   "source": [
    "Hybrid inheritance is a combination of multiple types of inheritance, such as multiple inheritance and multilevel inheritance"
   ]
  }
 ],
 "metadata": {
  "kernelspec": {
   "display_name": "Python 3 (ipykernel)",
   "language": "python",
   "name": "python3"
  },
  "language_info": {
   "codemirror_mode": {
    "name": "ipython",
    "version": 3
   },
   "file_extension": ".py",
   "mimetype": "text/x-python",
   "name": "python",
   "nbconvert_exporter": "python",
   "pygments_lexer": "ipython3",
   "version": "3.10.8"
  }
 },
 "nbformat": 4,
 "nbformat_minor": 5
}
