{
 "cells": [
  {
   "cell_type": "markdown",
   "id": "844f7b7f-f878-4f5a-a3a4-9fce5947c25d",
   "metadata": {},
   "source": [
    "Q1. How do you comment code in Python? What are the different types of comments?"
   ]
  },
  {
   "cell_type": "markdown",
   "id": "33162b09-a1f9-4644-bc4d-d92f710662d6",
   "metadata": {},
   "source": [
    "Single-Line Comments begin with the “#” character. Anything that is written in a single line after ‘#’ is considered as a comment.\n",
    "The syntax for writing single-line comments is:"
   ]
  },
  {
   "cell_type": "code",
   "execution_count": null,
   "id": "b547ff9f-fdd6-4661-aaba-719ca8459d44",
   "metadata": {},
   "outputs": [],
   "source": [
    "#this is a single line comment"
   ]
  },
  {
   "cell_type": "markdown",
   "id": "6966c0d9-6769-46e4-ba1c-96473940840d",
   "metadata": {
    "tags": []
   },
   "source": [
    "Multi-Line Comments\n",
    "Python does not support multi-line comments. However, there are multiple ways to overcome this issue.\n",
    "None of these ways are technically multi-line comments, but you can use them as one. The first way is by using \n",
    "'#' at the beginning of each line of the comment."
   ]
  },
  {
   "cell_type": "code",
   "execution_count": null,
   "id": "0a860862-5bfd-4b12-81de-eb6826c98c78",
   "metadata": {},
   "outputs": [],
   "source": [
    "# this is \n",
    "# how we use multi\n",
    "# line comments"
   ]
  },
  {
   "cell_type": "markdown",
   "id": "bee80487-d877-4adf-8e97-f9462cb2991d",
   "metadata": {},
   "source": [
    "Q2. What are variables in Python? How do you declare and assign values to variables?"
   ]
  },
  {
   "cell_type": "markdown",
   "id": "e6d48d27-de34-46b4-9a74-03fc8625b1c9",
   "metadata": {},
   "source": [
    "In Python, variables are used to store values that can be accessed and manipulated later in the program.\n",
    "They act as containers for data and provide a way to label and refer to information.\n",
    "To declare a variable in Python, you simply need to choose a name for it and use the assignment operator (=) to \n",
    "assign a value to it. Here's an example:"
   ]
  },
  {
   "cell_type": "code",
   "execution_count": null,
   "id": "a472afad-4de7-4fda-9ef3-0b5581e09372",
   "metadata": {},
   "outputs": [],
   "source": [
    "# Variable declaration and assignment\n",
    "name = \"John\"\n",
    "age = 25\n",
    "height = 1.75\n",
    "name,age,height"
   ]
  },
  {
   "cell_type": "markdown",
   "id": "6f390587-ec81-48c9-ae03-6074132bd8bb",
   "metadata": {},
   "source": [
    "It's important to keep in mind that variables are case-sensitive in Python, meaning name, \n",
    "Name, and NAME are all considered as distinct variables. Additionally, Python variable names cannot \n",
    "start with a number and should not contain spaces or special characters (except underscore, \"_\")."
   ]
  },
  {
   "cell_type": "markdown",
   "id": "c4777e06-c55c-4b52-baca-0fb9abf6615c",
   "metadata": {},
   "source": [
    "Q3. How do you convert one data type to another in Python?"
   ]
  },
  {
   "cell_type": "code",
   "execution_count": null,
   "id": "cb281246-a14c-464a-aa07-b143fa53847a",
   "metadata": {},
   "outputs": [],
   "source": [
    "# Converting a string to an integer\n",
    "num_str = \"10\"\n",
    "num_int = int(num_str)\n",
    "print(num_int)  "
   ]
  },
  {
   "cell_type": "code",
   "execution_count": null,
   "id": "2ac65d01-c65e-4ebd-be08-cce5148d8ed9",
   "metadata": {},
   "outputs": [],
   "source": [
    "# Converting an integer to a float\n",
    "num_int = 10\n",
    "num_float = float(num_int)\n",
    "print(num_float) "
   ]
  },
  {
   "cell_type": "code",
   "execution_count": null,
   "id": "badf4529-9f9a-4f0a-9023-3c35492fe6fa",
   "metadata": {},
   "outputs": [],
   "source": [
    "# Converting an integer to a string\n",
    "num_int = 10\n",
    "num_str = str(num_int)\n",
    "print(num_str) "
   ]
  },
  {
   "cell_type": "markdown",
   "id": "27f3df65-1bb3-49c7-abc5-8a57bd30be1a",
   "metadata": {},
   "source": [
    "num_int = 10\n",
    "num_bool = bool(num_int)\n",
    "print(num_bool) "
   ]
  },
  {
   "cell_type": "markdown",
   "id": "eb250597-46e3-45ff-a0d8-c9afe2687497",
   "metadata": {},
   "source": [
    "Q4. How do you write and execute a Python script from the command line?"
   ]
  },
  {
   "cell_type": "markdown",
   "id": "e2b3c627-a55c-4149-b6a9-a7acf3d54586",
   "metadata": {},
   "source": [
    "To write and execute a Python script from the command line, you can follow these steps:\n",
    "Open a text editor of your choice (e.g., Notepad, Sublime Text, Visual Studio Code) and create a new file.\n",
    "Write your Python code in the text file. For example, let's create a simple script that prints \"Hello, World!\":"
   ]
  },
  {
   "cell_type": "code",
   "execution_count": null,
   "id": "ee9ff70a-0b57-4137-b6b8-dcf1d7c83ce5",
   "metadata": {},
   "outputs": [],
   "source": [
    "print(\"Hello, World!\")"
   ]
  },
  {
   "cell_type": "markdown",
   "id": "f9fb9f71-b4ab-467c-91a1-368a6eb12688",
   "metadata": {},
   "source": [
    "Save the file with a .py extension. For instance, you can save it as hello.py. Choose a meaningful and descriptive name for your script.\n",
    "Open a command prompt or terminal window on your operating system.\n",
    "Navigate to the directory where you saved your Python script using the cd (change directory) command.\n",
    "For example, if your script is saved on the desktop, you can navigate to the desktop directory as follows:"
   ]
  },
  {
   "cell_type": "markdown",
   "id": "72485b1a-2ccd-480c-ab81-e75cd87847a5",
   "metadata": {},
   "source": [
    "cd Desktop\n",
    "python hello.py"
   ]
  },
  {
   "cell_type": "markdown",
   "id": "f007ced5-c8de-47ad-9de6-29b23d3a1537",
   "metadata": {},
   "source": [
    "Q5. Given a list my_list = [1, 2, 3, 4, 5], write the code to slice the list and obtain the sub-list [2, 3]."
   ]
  },
  {
   "cell_type": "code",
   "execution_count": null,
   "id": "11d2557a-125c-42d4-9f32-d73e0ec10a6e",
   "metadata": {},
   "outputs": [],
   "source": [
    "my_list = [1, 2, 3, 4, 5]\n",
    "sub_list = my_list[1:3]\n",
    "print(sub_list)"
   ]
  },
  {
   "cell_type": "markdown",
   "id": "ffb987d3-a967-4614-a619-04709b310edf",
   "metadata": {},
   "source": [
    "Q6. What is a complex number in mathematics, and how is it represented in Python?"
   ]
  },
  {
   "cell_type": "markdown",
   "id": "90d439b5-3d13-4f39-91aa-8054a4c4568c",
   "metadata": {},
   "source": [
    "In mathematics, a complex number is a number that comprises a real part and an imaginary part. It is represented in the form a + bi, where a is the real part, b is the imaginary part, and i is the imaginary unit (√-1).\n",
    "In Python, complex numbers are also supported as a built-in data type. They can be represented using the complex() function or by directly specifying the real and imaginary parts. Here are a few examples:"
   ]
  },
  {
   "cell_type": "code",
   "execution_count": null,
   "id": "ef3ac624-08f3-4394-baeb-de64dd9d5143",
   "metadata": {},
   "outputs": [],
   "source": [
    "# Using complex() function\n",
    "z1 = complex(2, 3)  # 2 + 3i\n",
    "z2 = complex(-1.5, 0.5)  # -1.5 + 0.5i\n",
    "\n",
    "# Using direct specification\n",
    "z3 = 4 + 2j  # 4 + 2i\n",
    "z4 = -2.7 - 1.3j  # -2.7 - 1.3i"
   ]
  },
  {
   "cell_type": "code",
   "execution_count": null,
   "id": "dbcd8a8a-a7f4-4b1b-8f4e-31c5ec354015",
   "metadata": {},
   "outputs": [],
   "source": [
    "z1 = 2 + 3j\n",
    "z2 = 1 - 2j\n",
    "\n",
    "# Addition\n",
    "result = z1 + z2\n",
    "print(result)\n",
    "# Multiplication\n",
    "result = z1 * z2\n",
    "print(result)  "
   ]
  },
  {
   "cell_type": "markdown",
   "id": "af2e5a86-49a7-4648-b952-94620e7bad47",
   "metadata": {},
   "source": [
    "Q7. What is the correct way to declare a variable named age and assign the value 25 to it?"
   ]
  },
  {
   "cell_type": "code",
   "execution_count": null,
   "id": "5fb966b3-3f9f-4a8c-96d5-bf08361af76f",
   "metadata": {},
   "outputs": [],
   "source": [
    "age=25"
   ]
  },
  {
   "cell_type": "markdown",
   "id": "85f46351-cabf-4bd0-915c-f93c70720dc0",
   "metadata": {},
   "source": [
    "Q8. Declare a variable named price and assign the value 9.99 to it. What data type does this variable\n",
    "belong to?"
   ]
  },
  {
   "cell_type": "code",
   "execution_count": null,
   "id": "bf7c71eb-1bec-496a-897d-af7076eb7559",
   "metadata": {},
   "outputs": [],
   "source": [
    "price=9.99\n",
    "type(price)\n",
    "#price is a float data type"
   ]
  },
  {
   "cell_type": "markdown",
   "id": "ff8b057c-429b-459e-b72d-d9cde084e77b",
   "metadata": {},
   "source": [
    "Q9. Create a variable named name and assign your full name to it as a string. How would you print the\n",
    "value of this variable?"
   ]
  },
  {
   "cell_type": "code",
   "execution_count": null,
   "id": "4d07b59f-96f9-47a2-9192-1307a14d77c7",
   "metadata": {},
   "outputs": [],
   "source": [
    "name='Tanya Manchanda'\n",
    "print(name)"
   ]
  },
  {
   "cell_type": "markdown",
   "id": "955c0738-8a7a-4b5b-a3fd-b93578bcb7c3",
   "metadata": {},
   "source": [
    "Q10. Given the string \"Hello, World!\", extract the substring \"World\"."
   ]
  },
  {
   "cell_type": "code",
   "execution_count": null,
   "id": "7fe9acdd-51a9-4bb5-af60-998c8e2a0b9a",
   "metadata": {},
   "outputs": [],
   "source": [
    "string = \"Hello, World!\"\n",
    "substring = string[7:12]\n",
    "print(substring)"
   ]
  },
  {
   "cell_type": "markdown",
   "id": "ba25a153-a382-4151-8af9-f226e82011e7",
   "metadata": {},
   "source": [
    "Q11. Create a variable named \"is_student\" and assign it a boolean value indicating whether you are\n",
    "currently a student or not."
   ]
  },
  {
   "cell_type": "code",
   "execution_count": null,
   "id": "0ca0ed72-1c8e-4b4c-a53d-f1634f6534de",
   "metadata": {},
   "outputs": [],
   "source": [
    "is_student = True\n",
    "is_student"
   ]
  },
  {
   "cell_type": "code",
   "execution_count": null,
   "id": "93127336-cea0-4c1a-8778-1cc29b29b032",
   "metadata": {},
   "outputs": [],
   "source": []
  }
 ],
 "metadata": {
  "kernelspec": {
   "display_name": "Python 3 (ipykernel)",
   "language": "python",
   "name": "python3"
  },
  "language_info": {
   "codemirror_mode": {
    "name": "ipython",
    "version": 3
   },
   "file_extension": ".py",
   "mimetype": "text/x-python",
   "name": "python",
   "nbconvert_exporter": "python",
   "pygments_lexer": "ipython3",
   "version": "3.10.8"
  }
 },
 "nbformat": 4,
 "nbformat_minor": 5
}
