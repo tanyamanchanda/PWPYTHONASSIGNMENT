{
 "cells": [
  {
   "cell_type": "markdown",
   "id": "37fd3370-dd1d-41d1-b9c5-510b2094ff8d",
   "metadata": {},
   "source": [
    "Q1)What is multithreading in python? why is it used? Name the module used to handle threads in python"
   ]
  },
  {
   "cell_type": "markdown",
   "id": "7fef2026-97df-473b-907d-83bdc03b7c4b",
   "metadata": {},
   "source": [
    "Multithreading in Python refers to the ability to execute multiple threads concurrently within a single program. A thread is a lightweight unit of execution that can run concurrently with other threads, sharing the same memory space. Multithreading allows a program to perform multiple tasks concurrently, improving performance and responsiveness.\n",
    "\n",
    "Threads are beneficial in situations where a program needs to handle multiple operations simultaneously, such as performing I/O operations, running background tasks, or parallelizing computations across multiple cores.\n",
    "\n",
    "The primary module used to handle threads in Python is called threading. It provides a high-level interface for creating and managing threads. The threading module allows you to create and start new threads, synchronize thread execution, share data between threads, and handle thread-related exceptions."
   ]
  },
  {
   "cell_type": "code",
   "execution_count": 1,
   "id": "2b493cf7-da90-4e5a-8548-8ffe1e8848b2",
   "metadata": {},
   "outputs": [
    {
     "name": "stdout",
     "output_type": "stream",
     "text": [
      "1\n",
      "2\n",
      "3\n",
      "4\n",
      "5\n",
      "Main thread\n"
     ]
    }
   ],
   "source": [
    "import threading\n",
    "\n",
    "def print_numbers():\n",
    "    for i in range(1, 6):\n",
    "        print(i)\n",
    "\n",
    "# Create a new thread\n",
    "thread = threading.Thread(target=print_numbers)\n",
    "\n",
    "# Start the thread\n",
    "thread.start()\n",
    "\n",
    "# Main thread continues execution\n",
    "print(\"Main thread\")\n",
    "\n",
    "# Wait for the thread to complete\n",
    "thread.join()\n"
   ]
  },
  {
   "cell_type": "markdown",
   "id": "c8d6312d-2c81-4646-845c-923296ae6c70",
   "metadata": {},
   "source": [
    "Q2.Why threading module used? rite the use of the following functions\n",
    "1.activeCount()\n",
    "2,currentThread()\n",
    "3.enumerate()"
   ]
  },
  {
   "cell_type": "markdown",
   "id": "4d3519d3-d1fa-4f08-ab0e-268b426ff12f",
   "metadata": {},
   "source": [
    "The threading module in Python is used to handle threads and provides a high-level interface for creating, managing, and synchronizing threads. It offers various functions and methods to facilitate thread-related operations. Let's explore the use of the following functions:\n",
    "1.activeCount(): This function is used to obtain the number of currently active threads in the program. It returns the number of Thread objects currently alive. It can be useful to monitor the number of active threads or to ensure that certain conditions are met before exiting the program."
   ]
  },
  {
   "cell_type": "code",
   "execution_count": 2,
   "id": "66b16321-8ed0-44d8-8261-4e0f74f5e625",
   "metadata": {},
   "outputs": [
    {
     "name": "stdout",
     "output_type": "stream",
     "text": [
      "Thread started\n",
      "Thread started\n",
      "Thread started\n",
      "Thread started\n",
      "Thread started\n",
      "Active threads: 8\n"
     ]
    },
    {
     "name": "stderr",
     "output_type": "stream",
     "text": [
      "/tmp/ipykernel_1990/1584730586.py:14: DeprecationWarning: activeCount() is deprecated, use active_count() instead\n",
      "  num_active_threads = threading.activeCount()\n"
     ]
    }
   ],
   "source": [
    "import threading\n",
    "\n",
    "def worker():\n",
    "    print(\"Thread started\")\n",
    "\n",
    "# Create multiple threads\n",
    "threads = [threading.Thread(target=worker) for _ in range(5)]\n",
    "\n",
    "# Start the threads\n",
    "for thread in threads:\n",
    "    thread.start()\n",
    "\n",
    "# Get the number of active threads\n",
    "num_active_threads = threading.activeCount()\n",
    "print(\"Active threads:\", num_active_threads)\n"
   ]
  },
  {
   "cell_type": "markdown",
   "id": "5734cfb6-7613-4177-b16a-09606854c055",
   "metadata": {},
   "source": [
    "2.currentThread(): This function returns the Thread object representing the current thread of execution. It can be used to access and manipulate properties of the current thread, such as its name or identification number (ID)."
   ]
  },
  {
   "cell_type": "code",
   "execution_count": 3,
   "id": "3990054e-edc2-4b16-a8f6-7f70a926c27e",
   "metadata": {},
   "outputs": [
    {
     "name": "stdout",
     "output_type": "stream",
     "text": [
      "Current thread name: WorkerThread\n"
     ]
    },
    {
     "name": "stderr",
     "output_type": "stream",
     "text": [
      "/tmp/ipykernel_1990/1675438389.py:4: DeprecationWarning: currentThread() is deprecated, use current_thread() instead\n",
      "  current_thread = threading.currentThread()\n"
     ]
    }
   ],
   "source": [
    "import threading\n",
    "\n",
    "def worker():\n",
    "    current_thread = threading.currentThread()\n",
    "    print(\"Current thread name:\", current_thread.name)\n",
    "\n",
    "# Create a thread\n",
    "thread = threading.Thread(target=worker, name=\"WorkerThread\")\n",
    "\n",
    "# Start the thread\n",
    "thread.start()\n"
   ]
  },
  {
   "cell_type": "markdown",
   "id": "b403440f-0818-4373-a8b7-5589378a14ac",
   "metadata": {},
   "source": [
    "3.enumerate(): This function returns a list of all active Thread objects currently alive. It is useful for obtaining a list of all threads in the program, which can be iterated over for further operations or analysis."
   ]
  },
  {
   "cell_type": "code",
   "execution_count": 4,
   "id": "f1d8eb0e-ee75-4e36-a596-d88223a64a51",
   "metadata": {},
   "outputs": [
    {
     "name": "stdout",
     "output_type": "stream",
     "text": [
      "Thread name: MainThread\n",
      "Thread name: IOPub\n",
      "Thread name: Heartbeat\n",
      "Thread name: Thread-3 (_watch_pipe_fd)\n",
      "Thread name: Thread-4 (_watch_pipe_fd)\n",
      "Thread name: Control\n",
      "Thread name: IPythonHistorySavingThread\n",
      "Thread name: Thread-2\n"
     ]
    }
   ],
   "source": [
    "import threading\n",
    "\n",
    "def worker():\n",
    "    pass\n",
    "\n",
    "# Create multiple threads\n",
    "threads = [threading.Thread(target=worker) for _ in range(3)]\n",
    "\n",
    "# Start the threads\n",
    "for thread in threads:\n",
    "    thread.start()\n",
    "\n",
    "# Enumerate all active threads\n",
    "all_threads = threading.enumerate()\n",
    "for thread in all_threads:\n",
    "    print(\"Thread name:\", thread.name)\n"
   ]
  },
  {
   "cell_type": "markdown",
   "id": "763c66a8-d1f1-4755-9176-9415cad50ce2",
   "metadata": {},
   "source": [
    "Q3. Explain the following functions\n",
    "a.run()\n",
    "b.start()\n",
    "c.join()\n",
    "d.isAlive()"
   ]
  },
  {
   "cell_type": "markdown",
   "id": "43d798a4-d8c6-4f91-a8f7-9144bfa1576b",
   "metadata": {},
   "source": [
    "The run() method is the entry point for the thread's execution when using the Thread class. It contains the code that will be executed in the thread. By default, the run() method does nothing. To define custom behavior for a thread, you can subclass the Thread class and override the run() method with your desired functionality."
   ]
  },
  {
   "cell_type": "code",
   "execution_count": 1,
   "id": "b776c006-7a2c-4ba6-85ef-c7de1f0ac173",
   "metadata": {},
   "outputs": [
    {
     "name": "stdout",
     "output_type": "stream",
     "text": [
      "Thread started\n"
     ]
    }
   ],
   "source": [
    "import threading\n",
    "\n",
    "class MyThread(threading.Thread):\n",
    "    def run(self):\n",
    "        print(\"Thread started\")\n",
    "\n",
    "# Create a thread object\n",
    "thread = MyThread()\n",
    "\n",
    "# Start the thread\n",
    "thread.start()\n"
   ]
  },
  {
   "cell_type": "markdown",
   "id": "b6cdb461-6c51-4bcf-bb19-ee010eb783a3",
   "metadata": {},
   "source": [
    "The start() method is used to start the execution of a thread. It creates a new operating system thread and invokes the run() method in that thread. When start() is called, the thread is added to the system's list of active threads, and its run() method is executed concurrently."
   ]
  },
  {
   "cell_type": "code",
   "execution_count": 2,
   "id": "7efd0708-9b08-4e47-a76f-7e3b7d7d6fc1",
   "metadata": {},
   "outputs": [
    {
     "name": "stdout",
     "output_type": "stream",
     "text": [
      "Thread started\n"
     ]
    }
   ],
   "source": [
    "import threading\n",
    "\n",
    "def worker():\n",
    "    print(\"Thread started\")\n",
    "\n",
    "# Create a thread\n",
    "thread = threading.Thread(target=worker)\n",
    "\n",
    "# Start the thread\n",
    "thread.start()\n"
   ]
  },
  {
   "cell_type": "markdown",
   "id": "31c6e017-3266-4f16-a717-3d942feba898",
   "metadata": {},
   "source": [
    "The join() method is used to wait for a thread to complete its execution before moving forward in the program. When join() is called on a thread, the program waits until that thread finishes its execution or until a specified timeout duration (if provided). This allows for synchronization between threads and ensures that the main program waits for critical operations to complete."
   ]
  },
  {
   "cell_type": "code",
   "execution_count": 3,
   "id": "82cafc01-024d-412b-a2ff-e273c810d254",
   "metadata": {},
   "outputs": [
    {
     "name": "stdout",
     "output_type": "stream",
     "text": [
      "Thread started\n",
      "Thread completed\n"
     ]
    }
   ],
   "source": [
    "import threading\n",
    "\n",
    "def worker():\n",
    "    print(\"Thread started\")\n",
    "\n",
    "# Create a thread\n",
    "thread = threading.Thread(target=worker)\n",
    "\n",
    "# Start the thread\n",
    "thread.start()\n",
    "\n",
    "# Wait for the thread to complete\n",
    "thread.join()\n",
    "\n",
    "print(\"Thread completed\")\n"
   ]
  },
  {
   "cell_type": "markdown",
   "id": "2033325f-d5a4-4cba-b890-f34cca23b0e5",
   "metadata": {},
   "source": [
    "The isAlive() method is used to check whether a thread is currently active or alive. It returns True if the thread is still executing, and False otherwise. It can be useful for monitoring the status of threads and making decisions based on their execution state."
   ]
  },
  {
   "cell_type": "code",
   "execution_count": 4,
   "id": "284a7a9e-8a4d-4e02-a2e6-2d3c98d31c89",
   "metadata": {},
   "outputs": [
    {
     "ename": "AttributeError",
     "evalue": "'Thread' object has no attribute 'isAlive'",
     "output_type": "error",
     "traceback": [
      "\u001b[0;31m---------------------------------------------------------------------------\u001b[0m",
      "\u001b[0;31mAttributeError\u001b[0m                            Traceback (most recent call last)",
      "Cell \u001b[0;32mIn[4], line 13\u001b[0m\n\u001b[1;32m     10\u001b[0m thread\u001b[38;5;241m.\u001b[39mstart()\n\u001b[1;32m     12\u001b[0m \u001b[38;5;66;03m# Check if the thread is alive\u001b[39;00m\n\u001b[0;32m---> 13\u001b[0m \u001b[38;5;28;01mif\u001b[39;00m \u001b[43mthread\u001b[49m\u001b[38;5;241;43m.\u001b[39;49m\u001b[43misAlive\u001b[49m():\n\u001b[1;32m     14\u001b[0m     \u001b[38;5;28mprint\u001b[39m(\u001b[38;5;124m\"\u001b[39m\u001b[38;5;124mThread is still running\u001b[39m\u001b[38;5;124m\"\u001b[39m)\n\u001b[1;32m     15\u001b[0m \u001b[38;5;28;01melse\u001b[39;00m:\n",
      "\u001b[0;31mAttributeError\u001b[0m: 'Thread' object has no attribute 'isAlive'"
     ]
    }
   ],
   "source": [
    "import threading\n",
    "\n",
    "def worker():\n",
    "    pass\n",
    "\n",
    "# Create a thread\n",
    "thread = threading.Thread(target=worker)\n",
    "\n",
    "# Start the thread\n",
    "thread.start()\n",
    "\n",
    "# Check if the thread is alive\n",
    "if thread.isAlive():\n",
    "    print(\"Thread is still running\")\n",
    "else:\n",
    "    print(\"Thread has finished\")\n"
   ]
  },
  {
   "cell_type": "markdown",
   "id": "a587f825-1183-4677-a199-56045d2feb3d",
   "metadata": {},
   "source": [
    "Q4.Write a python program to create two threads. Thread one must print the list of squares and thread\n",
    "two must print the list of cubes"
   ]
  },
  {
   "cell_type": "code",
   "execution_count": 5,
   "id": "e9a57f77-201e-41b5-a224-e322cd66e86c",
   "metadata": {},
   "outputs": [
    {
     "name": "stdout",
     "output_type": "stream",
     "text": [
      "Square: 1\n",
      "Square: 4\n",
      "Square: 9\n",
      "Square: 16\n",
      "Square: 25\n",
      "Cube: 1\n",
      "Cube: 8\n",
      "Cube: 27\n",
      "Cube: 64\n",
      "Cube: 125\n",
      "Done\n"
     ]
    }
   ],
   "source": [
    "import threading\n",
    "\n",
    "def print_squares(numbers):\n",
    "    for num in numbers:\n",
    "        square = num ** 2\n",
    "        print(f\"Square: {square}\")\n",
    "\n",
    "def print_cubes(numbers):\n",
    "    for num in numbers:\n",
    "        cube = num ** 3\n",
    "        print(f\"Cube: {cube}\")\n",
    "\n",
    "# Create a list of numbers\n",
    "numbers = [1, 2, 3, 4, 5]\n",
    "\n",
    "# Create the first thread to print squares\n",
    "thread_squares = threading.Thread(target=print_squares, args=(numbers,))\n",
    "\n",
    "# Create the second thread to print cubes\n",
    "thread_cubes = threading.Thread(target=print_cubes, args=(numbers,))\n",
    "\n",
    "# Start both threads\n",
    "thread_squares.start()\n",
    "thread_cubes.start()\n",
    "\n",
    "# Wait for both threads to finish\n",
    "thread_squares.join()\n",
    "thread_cubes.join()\n",
    "\n",
    "print(\"Done\")\n"
   ]
  },
  {
   "cell_type": "markdown",
   "id": "7bed91eb-1d91-473d-b6a0-0ea16b9ec11e",
   "metadata": {},
   "source": [
    "Q5. State advantages and disadvantages of multithreading"
   ]
  },
  {
   "cell_type": "markdown",
   "id": "4c7dbfcc-a273-4a5d-be5e-8e3cf34f59e7",
   "metadata": {},
   "source": [
    "Advantages of Multithreading:\n",
    "Improved Performance: Multithreading allows for concurrent execution of multiple tasks, which can result in improved performance and responsiveness of the program. By leveraging multiple threads, the program can utilize available CPU resources more efficiently and execute multiple operations simultaneously.\n",
    "Enhanced Responsiveness: Multithreading enables programs to remain responsive even while performing time-consuming tasks. By running lengthy operations in the background using separate threads, the main thread can continue to respond to user interactions or handle other important tasks.\n",
    "Efficient Resource Utilization: Multithreading can help maximize resource utilization, such as CPU cores. By dividing tasks into smaller threads, programs can take advantage of parallelism and efficiently utilize available computing resources, resulting in faster execution times.\n",
    "Disadvantages of Multithreading:\n",
    "Complexity and Difficult Debugging: Multithreaded programs can be more complex to design, implement, and debug compared to single-threaded programs. Issues such as race conditions, deadlocks, and thread synchronization problems can occur, making debugging more challenging and time-consuming.\n",
    "Increased Memory Overhead: Each thread requires additional memory resources for stack space and thread-specific data structures. As a result, multithreaded programs may consume more memory compared to their single-threaded counterparts.\n",
    "Synchronization Overhead: When multiple threads access shared resources simultaneously, proper synchronization mechanisms must be employed to ensure data integrity and avoid conflicts. However, managing synchronization can introduce overhead and potentially impact performance.\n",
    "Potential for Thread Interference: Multithreading introduces the risk of thread interference, where threads may interfere with each other's execution or modify shared data in unexpected ways. Careful synchronization and proper use of thread-safe constructs are necessary to mitigate such issues."
   ]
  },
  {
   "cell_type": "markdown",
   "id": "9feb613a-3524-4a7f-bec9-365d249106d9",
   "metadata": {},
   "source": [
    "Q6. Explain deadlocks and race conditions."
   ]
  }
 ],
 "metadata": {
  "kernelspec": {
   "display_name": "Python 3 (ipykernel)",
   "language": "python",
   "name": "python3"
  },
  "language_info": {
   "codemirror_mode": {
    "name": "ipython",
    "version": 3
   },
   "file_extension": ".py",
   "mimetype": "text/x-python",
   "name": "python",
   "nbconvert_exporter": "python",
   "pygments_lexer": "ipython3",
   "version": "3.10.8"
  }
 },
 "nbformat": 4,
 "nbformat_minor": 5
}
