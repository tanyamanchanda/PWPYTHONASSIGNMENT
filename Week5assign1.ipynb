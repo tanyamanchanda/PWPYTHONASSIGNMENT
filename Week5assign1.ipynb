{
 "cells": [
  {
   "cell_type": "markdown",
   "id": "bff7a4ee-88f2-4631-8fca-1fa436a099c7",
   "metadata": {},
   "source": [
    "Q1.What is an Exception in python? Write the difference between Exceptions and syntax errors"
   ]
  },
  {
   "cell_type": "markdown",
   "id": "880b1173-dca2-4829-a472-92ce6a7a8c14",
   "metadata": {},
   "source": [
    "In Python, an exception is an event that occurs during the execution of a program, which disrupts the normal flow of the program's instructions. When an exceptional situation or error occurs, an exception object is created and raised, indicating that something unexpected or erroneous has happened."
   ]
  },
  {
   "cell_type": "code",
   "execution_count": 1,
   "id": "f533a893-0b79-4ccb-a56f-69a7126fb465",
   "metadata": {},
   "outputs": [
    {
     "name": "stdin",
     "output_type": "stream",
     "text": [
      "Enter a numerator:  10\n",
      "Enter a denominator:  0\n"
     ]
    },
    {
     "name": "stdout",
     "output_type": "stream",
     "text": [
      "Error: Division by zero is not allowed.\n"
     ]
    }
   ],
   "source": [
    "try:\n",
    "    num1 = int(input(\"Enter a numerator: \"))\n",
    "    num2 = int(input(\"Enter a denominator: \"))\n",
    "    result = num1 / num2\n",
    "    print(\"Result:\", result)\n",
    "except ZeroDivisionError:\n",
    "    print(\"Error: Division by zero is not allowed.\")\n",
    "except ValueError:\n",
    "    print(\"Error: Invalid input. Please enter valid integers.\")\n"
   ]
  },
  {
   "cell_type": "markdown",
   "id": "8284831c-cef7-42c0-a0bd-8f32e16fc47a",
   "metadata": {},
   "source": [
    "Syntax Errors: Syntax errors occur when the syntax of the code violates the rules of the Python language. These errors are detected by the Python interpreter during the parsing phase, before the code is executed. Syntax errors indicate that the code is not written correctly and cannot be compiled or interpreted. They commonly occur due to missing or incorrect syntax elements like incorrect indentation, missing parentheses, or misspelled keywords. Syntax errors need to be fixed before the code can be executed.\n",
    "\n",
    "Exceptions: Exceptions, on the other hand, occur during the execution of a program when an exceptional condition arises. Exceptions can occur even in syntactically correct code if there is an issue with runtime operations or external factors. Exceptions are detected during the program's execution and can be handled using exception handling mechanisms, such as try-except blocks. Exceptions can be caused by various situations, including invalid input, division by zero, accessing non-existent resources, or errors in the underlying logic of the program."
   ]
  },
  {
   "cell_type": "markdown",
   "id": "75f3aa03-a380-4d4d-9c68-bed63edadd9b",
   "metadata": {},
   "source": [
    "Q2. What happens when an exception is not handled? explain with an example"
   ]
  },
  {
   "cell_type": "markdown",
   "id": "ca45ab0f-2ba7-49e8-a5f2-7a00a101597d",
   "metadata": {},
   "source": [
    "When an exception is not handled in Python, it results in an error message being displayed, and the program terminates abruptly. This behavior is known as an unhandled exception."
   ]
  },
  {
   "cell_type": "code",
   "execution_count": 2,
   "id": "d306046e-1ed1-4150-9c31-6e0a943b2d71",
   "metadata": {},
   "outputs": [
    {
     "ename": "ZeroDivisionError",
     "evalue": "division by zero",
     "output_type": "error",
     "traceback": [
      "\u001b[0;31m---------------------------------------------------------------------------\u001b[0m",
      "\u001b[0;31mZeroDivisionError\u001b[0m                         Traceback (most recent call last)",
      "Cell \u001b[0;32mIn[2], line 3\u001b[0m\n\u001b[1;32m      1\u001b[0m num1 \u001b[38;5;241m=\u001b[39m \u001b[38;5;241m10\u001b[39m\n\u001b[1;32m      2\u001b[0m num2 \u001b[38;5;241m=\u001b[39m \u001b[38;5;241m0\u001b[39m\n\u001b[0;32m----> 3\u001b[0m result \u001b[38;5;241m=\u001b[39m \u001b[43mnum1\u001b[49m\u001b[43m \u001b[49m\u001b[38;5;241;43m/\u001b[39;49m\u001b[43m \u001b[49m\u001b[43mnum2\u001b[49m\n\u001b[1;32m      4\u001b[0m \u001b[38;5;28mprint\u001b[39m(\u001b[38;5;124m\"\u001b[39m\u001b[38;5;124mResult:\u001b[39m\u001b[38;5;124m\"\u001b[39m, result)\n\u001b[1;32m      5\u001b[0m \u001b[38;5;28mprint\u001b[39m(\u001b[38;5;124m\"\u001b[39m\u001b[38;5;124mThis line will not be executed.\u001b[39m\u001b[38;5;124m\"\u001b[39m)\n",
      "\u001b[0;31mZeroDivisionError\u001b[0m: division by zero"
     ]
    }
   ],
   "source": [
    "num1 = 10\n",
    "num2 = 0\n",
    "result = num1 / num2\n",
    "print(\"Result:\", result)\n",
    "print(\"This line will not be executed.\")\n"
   ]
  },
  {
   "cell_type": "markdown",
   "id": "a2a40a23-6009-4e01-8284-0d080583d4b1",
   "metadata": {},
   "source": [
    "Q3. Which python statements are used to catch and handle exceptions?Explain with an example"
   ]
  },
  {
   "cell_type": "markdown",
   "id": "f3d3433c-4d4d-4f3b-a52f-3a0168e0e2db",
   "metadata": {},
   "source": [
    "In Python, the try-except statements are used to catch and handle exceptions. The try block is used to enclose the code where an exception might occur, and the except block is used to define the code that handles the exception if it occurs."
   ]
  },
  {
   "cell_type": "code",
   "execution_count": 4,
   "id": "1f407a4e-aee9-48e5-8f09-f996d7de0a03",
   "metadata": {},
   "outputs": [
    {
     "name": "stdin",
     "output_type": "stream",
     "text": [
      "Enter a numerator:  10\n",
      "Enter a denominator:  0\n"
     ]
    },
    {
     "name": "stdout",
     "output_type": "stream",
     "text": [
      "Error: Division by zero is not allowed.\n"
     ]
    }
   ],
   "source": [
    "try:\n",
    "    num1 = int(input(\"Enter a numerator: \"))\n",
    "    num2 = int(input(\"Enter a denominator: \"))\n",
    "    result = num1 / num2\n",
    "    print(\"Result:\", result)\n",
    "except ZeroDivisionError:\n",
    "    print(\"Error: Division by zero is not allowed.\")\n",
    "except ValueError:\n",
    "    print(\"Error: Invalid input. Please enter valid integers.\")\n"
   ]
  },
  {
   "cell_type": "markdown",
   "id": "13562a31-c034-456a-934f-81928762e417",
   "metadata": {},
   "source": [
    "Q4. Explain with an example: a)try and else b)finally c)raise"
   ]
  },
  {
   "cell_type": "code",
   "execution_count": 5,
   "id": "00fda5eb-0db2-4494-84bc-36a57f9d79cb",
   "metadata": {},
   "outputs": [
    {
     "name": "stdin",
     "output_type": "stream",
     "text": [
      "Enter a numerator:  10\n",
      "Enter a denominator:  0\n"
     ]
    },
    {
     "name": "stdout",
     "output_type": "stream",
     "text": [
      "Error: Division by zero is not allowed.\n"
     ]
    }
   ],
   "source": [
    "#a)try and else\n",
    "try:\n",
    "    num1 = int(input(\"Enter a numerator: \"))\n",
    "    num2 = int(input(\"Enter a denominator: \"))\n",
    "    result = num1 / num2\n",
    "except ZeroDivisionError:\n",
    "    print(\"Error: Division by zero is not allowed.\")\n",
    "else:\n",
    "    print(\"Division performed successfully.\")\n",
    "    print(\"Result:\", result)\n"
   ]
  },
  {
   "cell_type": "code",
   "execution_count": 7,
   "id": "a7e390d7-1c7e-4da9-bb00-eb0c6775bb87",
   "metadata": {},
   "outputs": [
    {
     "name": "stdout",
     "output_type": "stream",
     "text": [
      "Error: File not found.\n"
     ]
    },
    {
     "ename": "NameError",
     "evalue": "name 'file' is not defined",
     "output_type": "error",
     "traceback": [
      "\u001b[0;31m---------------------------------------------------------------------------\u001b[0m",
      "\u001b[0;31mNameError\u001b[0m                                 Traceback (most recent call last)",
      "Cell \u001b[0;32mIn[7], line 9\u001b[0m\n\u001b[1;32m      7\u001b[0m     \u001b[38;5;28mprint\u001b[39m(\u001b[38;5;124m\"\u001b[39m\u001b[38;5;124mError: File not found.\u001b[39m\u001b[38;5;124m\"\u001b[39m)\n\u001b[1;32m      8\u001b[0m \u001b[38;5;28;01mfinally\u001b[39;00m:\n\u001b[0;32m----> 9\u001b[0m     \u001b[43mfile\u001b[49m\u001b[38;5;241m.\u001b[39mclose()\n\u001b[1;32m     10\u001b[0m     \u001b[38;5;28mprint\u001b[39m(\u001b[38;5;124m\"\u001b[39m\u001b[38;5;124mFile closed.\u001b[39m\u001b[38;5;124m\"\u001b[39m)\n",
      "\u001b[0;31mNameError\u001b[0m: name 'file' is not defined"
     ]
    }
   ],
   "source": [
    "#b)finally\n",
    "try:\n",
    "    file = open(\"example.txt\", \"r\")\n",
    "    content = file.read()\n",
    "    print(content)\n",
    "except FileNotFoundError:\n",
    "    print(\"Error: File not found.\")\n",
    "finally:\n",
    "    file.close()\n",
    "    print(\"File closed.\")\n"
   ]
  },
  {
   "cell_type": "code",
   "execution_count": 8,
   "id": "123be92c-ee72-42a9-a1ea-0049f8324d7c",
   "metadata": {},
   "outputs": [
    {
     "name": "stdin",
     "output_type": "stream",
     "text": [
      "Enter your birth year:  2001\n"
     ]
    },
    {
     "name": "stdout",
     "output_type": "stream",
     "text": [
      "Your age is: 22\n"
     ]
    }
   ],
   "source": [
    "#c)raise\n",
    "def calculate_age(year):\n",
    "    current_year = 2023\n",
    "    if year > current_year:\n",
    "        raise ValueError(\"Invalid year: Future year entered.\")\n",
    "    age = current_year - year\n",
    "    return age\n",
    "\n",
    "try:\n",
    "    birth_year = int(input(\"Enter your birth year: \"))\n",
    "    age = calculate_age(birth_year)\n",
    "    print(\"Your age is:\", age)\n",
    "except ValueError as e:\n",
    "    print(e)\n"
   ]
  },
  {
   "cell_type": "markdown",
   "id": "a7ba95df-662b-46fa-bbd5-dce06ab41c24",
   "metadata": {},
   "source": [
    "Q5.What are custom exceptions in python ? Why do we need custom exceptions ?Explain with an example"
   ]
  },
  {
   "cell_type": "markdown",
   "id": "a3fcb0b2-f9e7-4db9-a23d-787d930b3392",
   "metadata": {},
   "source": [
    "Custom exceptions in Python are user-defined exceptions that allow you to create your own specific exception classes. These exceptions are derived from the base Exception class or its subclasses. Custom exceptions provide a way to handle and communicate application-specific errors or exceptional conditions that are not covered by the built-in exception classes.\n",
    "\n",
    "We need custom exceptions for several reasons:\n",
    "\n",
    "Specific Error Handling: Custom exceptions allow you to handle specific errors or exceptional conditions in a more granular and meaningful way. Instead of relying solely on general exception classes, you can create custom exceptions that capture the specific context or nature of the error, providing more informative error messages or allowing for targeted exception handling.\n",
    "\n",
    "Modularity and Reusability: By creating custom exceptions, you can encapsulate error handling logic within the exception class itself. This promotes modularity and code reusability, as you can raise and catch the custom exception in different parts of your codebase without duplicating the error handling code.\n",
    "\n",
    "Readability and Maintainability: Custom exceptions make your code more readable and maintainable. By using descriptive and self-explanatory exception names, it becomes easier for other developers to understand the purpose or reason behind the raised exception. Additionally, when you encounter a custom exception during debugging or error tracing, the exception's name provides valuable information about the error source."
   ]
  },
  {
   "cell_type": "code",
   "execution_count": 9,
   "id": "0f2a0221-fc9c-40c9-84d5-7c3b37a2f857",
   "metadata": {},
   "outputs": [
    {
     "name": "stdout",
     "output_type": "stream",
     "text": [
      "Insufficient balance. Available balance: 500, Withdrawal amount: 1000\n"
     ]
    }
   ],
   "source": [
    "class WithdrawalError(Exception):\n",
    "    def __init__(self, balance, amount):\n",
    "        self.balance = balance\n",
    "        self.amount = amount\n",
    "        message = f\"Insufficient balance. Available balance: {balance}, Withdrawal amount: {amount}\"\n",
    "        super().__init__(message)\n",
    "\n",
    "def withdraw(balance, amount):\n",
    "    if amount > balance:\n",
    "        raise WithdrawalError(balance, amount)\n",
    "    # Perform withdrawal logic here\n",
    "\n",
    "try:\n",
    "    account_balance = 500\n",
    "    withdrawal_amount = 1000\n",
    "    withdraw(account_balance, withdrawal_amount)\n",
    "except WithdrawalError as e:\n",
    "    print(e)\n"
   ]
  },
  {
   "cell_type": "code",
   "execution_count": null,
   "id": "eff49806-7521-4566-8c39-b3f1760aaa42",
   "metadata": {},
   "outputs": [],
   "source": [
    "Q6 Create a custom exception class  use this class to handle an exception"
   ]
  }
 ],
 "metadata": {
  "kernelspec": {
   "display_name": "Python 3 (ipykernel)",
   "language": "python",
   "name": "python3"
  },
  "language_info": {
   "codemirror_mode": {
    "name": "ipython",
    "version": 3
   },
   "file_extension": ".py",
   "mimetype": "text/x-python",
   "name": "python",
   "nbconvert_exporter": "python",
   "pygments_lexer": "ipython3",
   "version": "3.10.8"
  }
 },
 "nbformat": 4,
 "nbformat_minor": 5
}
