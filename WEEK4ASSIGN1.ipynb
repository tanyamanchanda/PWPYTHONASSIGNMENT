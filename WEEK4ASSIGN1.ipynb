{
 "cells": [
  {
   "cell_type": "markdown",
   "id": "aa6e1277-a6d3-4501-adda-84407b634d5a",
   "metadata": {},
   "source": [
    "Q1, Create a vehicle class with an init method having instance variables as name_of_vehicle, max_speed\n",
    "and average_of_vehicle."
   ]
  },
  {
   "cell_type": "code",
   "execution_count": 4,
   "id": "1fe30f27-cb7b-4093-ac9c-e4ddcd55ac50",
   "metadata": {},
   "outputs": [],
   "source": [
    "class Vehicle:\n",
    "    def __init__(self, name_of_vehicle, max_speed, average_speed):\n",
    "        self.name_of_vehicle = name_of_vehicle\n",
    "        self.max_speed = max_speed\n",
    "        self.average_speed = average_speed"
   ]
  },
  {
   "cell_type": "markdown",
   "id": "ec5afc8f-523b-42b1-9830-0c55e129b527",
   "metadata": {},
   "source": [
    "Q2. Create a child class car from the vehicle class created in Que 1, which will inherit the vehicle class.\n",
    "Create a method named seating_capacity which takes capacity as an argument and returns the name of\n",
    "the vehicle and its seating capacity."
   ]
  },
  {
   "cell_type": "code",
   "execution_count": 5,
   "id": "c6351175-b451-4a09-80c9-1775f8647933",
   "metadata": {},
   "outputs": [
    {
     "name": "stdout",
     "output_type": "stream",
     "text": [
      "Car\n",
      "200\n",
      "80\n",
      "The Car has a seating capacity of 5.\n"
     ]
    }
   ],
   "source": [
    "class Car(Vehicle):\n",
    "    def seating_capacity(self, capacity):\n",
    "        return f\"The {self.name_of_vehicle} has a seating capacity of {capacity}.\"\n",
    "\n",
    "\n",
    "car = Car(\"Car\", 200, 80)\n",
    "print(car.name_of_vehicle)                  # Output: Car\n",
    "print(car.max_speed)                        # Output: 200\n",
    "print(car.average_speed)                    # Output: 80\n",
    "print(car.seating_capacity(5))               # Output: The Car has a seating capacity of 5.\n"
   ]
  },
  {
   "cell_type": "markdown",
   "id": "4e9cd77d-1c44-460d-be29-4dbe43ea6c80",
   "metadata": {},
   "source": [
    "Q3. What is multiple inheritance? Write a python code to demonstrate multiple inheritance."
   ]
  },
  {
   "cell_type": "markdown",
   "id": "353c7831-2024-4295-88f3-698e268bd78f",
   "metadata": {},
   "source": [
    "Multiple inheritance is a feature in object-oriented programming languages where a class can inherit characteristics and behaviors from more than one parent class. In multiple inheritance, a class can inherit attributes and methods from multiple parent classes, forming a hierarchy of inheritance."
   ]
  },
  {
   "cell_type": "code",
   "execution_count": 6,
   "id": "60feb269-3409-4776-855c-c019078f57e6",
   "metadata": {},
   "outputs": [
    {
     "name": "stdout",
     "output_type": "stream",
     "text": [
      "Method A\n",
      "Method B\n",
      "Method C\n"
     ]
    }
   ],
   "source": [
    "class A:\n",
    "    def method_A(self):\n",
    "        print(\"Method A\")\n",
    "\n",
    "\n",
    "class B:\n",
    "    def method_B(self):\n",
    "        print(\"Method B\")\n",
    "\n",
    "\n",
    "class C(A, B):\n",
    "    def method_C(self):\n",
    "        print(\"Method C\")\n",
    "\n",
    "\n",
    "obj = C()\n",
    "obj.method_A()  # Output: Method A\n",
    "obj.method_B()  # Output: Method B\n",
    "obj.method_C()  # Output: Method C\n"
   ]
  },
  {
   "cell_type": "markdown",
   "id": "0e507851-4c0f-4f15-8434-e9aed216e711",
   "metadata": {},
   "source": [
    "Q4. What are getter and setter in python? Create a class and create a getter and a setter method in this\n",
    "class."
   ]
  },
  {
   "cell_type": "markdown",
   "id": "caf87ca3-da20-44af-9202-285a43363143",
   "metadata": {},
   "source": [
    "In Python, getter and setter methods are used to provide controlled access to class attributes or properties. They allow you to define custom behaviors for getting and setting attribute values, enabling you to enforce validation, perform additional actions, or encapsulate the internal representation of the attribute.\n",
    "\n",
    "A getter method (also known as an accessor method) is used to retrieve the value of an attribute, while a setter method (also known as a mutator method) is used to set the value of an attribute."
   ]
  },
  {
   "cell_type": "code",
   "execution_count": 7,
   "id": "788c40f8-1144-45e4-aa30-40938df48090",
   "metadata": {},
   "outputs": [
    {
     "name": "stdout",
     "output_type": "stream",
     "text": [
      "John\n",
      "Michael\n"
     ]
    }
   ],
   "source": [
    "class Person:\n",
    "    def __init__(self, name):\n",
    "        self._name = name\n",
    "\n",
    "    def get_name(self):\n",
    "        return self._name\n",
    "\n",
    "    def set_name(self, new_name):\n",
    "        self._name = new_name\n",
    "\n",
    "# Creating an instance of the Person class\n",
    "person = Person(\"John\")\n",
    "\n",
    "# Using the getter method to retrieve the name attribute\n",
    "print(person.get_name())  # Output: John\n",
    "\n",
    "# Using the setter method to update the name attribute\n",
    "person.set_name(\"Michael\")\n",
    "\n",
    "# Using the getter method again to retrieve the updated name attribute\n",
    "print(person.get_name())  # Output: Michael\n"
   ]
  },
  {
   "cell_type": "markdown",
   "id": "fbb4ca45-b565-4caa-811d-f27a35ac34f6",
   "metadata": {},
   "source": [
    "Q5.What is method overriding in python? Write a python code to demonstrate method overriding."
   ]
  },
  {
   "cell_type": "markdown",
   "id": "3d346cb2-546b-49b6-935f-2c7801688afc",
   "metadata": {},
   "source": [
    "Method overriding is a feature in object-oriented programming where a child class provides a different implementation of a method that is already defined in its parent class. It allows the child class to redefine or extend the behavior of the inherited method."
   ]
  },
  {
   "cell_type": "code",
   "execution_count": null,
   "id": "38daaa1f-7a3d-43c5-ab74-99f6e271a8ab",
   "metadata": {},
   "outputs": [],
   "source": []
  },
  {
   "cell_type": "code",
   "execution_count": null,
   "id": "c05b2905-60e0-4417-a365-1edaa55cd379",
   "metadata": {},
   "outputs": [],
   "source": []
  }
 ],
 "metadata": {
  "kernelspec": {
   "display_name": "Python 3 (ipykernel)",
   "language": "python",
   "name": "python3"
  },
  "language_info": {
   "codemirror_mode": {
    "name": "ipython",
    "version": 3
   },
   "file_extension": ".py",
   "mimetype": "text/x-python",
   "name": "python",
   "nbconvert_exporter": "python",
   "pygments_lexer": "ipython3",
   "version": "3.10.8"
  }
 },
 "nbformat": 4,
 "nbformat_minor": 5
}
