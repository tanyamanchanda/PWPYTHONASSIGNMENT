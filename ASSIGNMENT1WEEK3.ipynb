{
 "cells": [
  {
   "cell_type": "markdown",
   "id": "561ef786-c49c-47b4-a360-9471e9fcf1d2",
   "metadata": {},
   "source": [
    "ASSIGNMENT-3\n",
    "BY TANYA MANCHANDA"
   ]
  },
  {
   "cell_type": "markdown",
   "id": "8858dd56-642e-4371-a34b-88992acf9e7b",
   "metadata": {},
   "source": [
    "Q1. Which keyword is used to create a function? Create a function to return a list of odd numbers in the\n",
    "range of 1 to 25."
   ]
  },
  {
   "cell_type": "markdown",
   "id": "e4ed0939-77d2-4f99-960a-bbe6afb053f0",
   "metadata": {},
   "source": [
    " in Python, you would use the keyword \"def\" to define a function. Here's an example of a Python function that returns a list of odd numbers in the range of 1 to 25:"
   ]
  },
  {
   "cell_type": "code",
   "execution_count": 1,
   "id": "56e91611-ee8c-4134-bc66-0057efc9915e",
   "metadata": {},
   "outputs": [
    {
     "name": "stdout",
     "output_type": "stream",
     "text": [
      "[1, 3, 5, 7, 9, 11, 13, 15, 17, 19, 21, 23, 25]\n"
     ]
    }
   ],
   "source": [
    "def get_odd_numbers():\n",
    "    odd_numbers = []\n",
    "    for num in range(1, 26):\n",
    "        if num % 2 != 0:\n",
    "            odd_numbers.append(num)\n",
    "    return odd_numbers\n",
    "\n",
    "# Calling the function\n",
    "result = get_odd_numbers()\n",
    "print(result)"
   ]
  },
  {
   "cell_type": "markdown",
   "id": "c8d021c6-51dc-442b-9501-ab30f7bbd8e7",
   "metadata": {},
   "source": [
    "Q2. Why *args and **kwargs is used in some functions? Create a function each for *args and **kwargs\n",
    "to demonstrate their use."
   ]
  },
  {
   "cell_type": "markdown",
   "id": "13cd4c7a-72b6-4b17-b404-cacc6d581e38",
   "metadata": {},
   "source": [
    "The *args parameter is used to pass a variable number of non-keyword arguments to a function. It allows you to pass any number of positional arguments, and they are collected into a tuple within the function. The name args is just a convention, and you can use any valid variable name preceded by an asterisk (*).\n",
    "Here's an example of a function that demonstrates the use of *args:"
   ]
  },
  {
   "cell_type": "code",
   "execution_count": 2,
   "id": "dfe8d045-0b76-4430-88c7-d0d8d8825c2f",
   "metadata": {},
   "outputs": [
    {
     "name": "stdout",
     "output_type": "stream",
     "text": [
      "Hello World!\n"
     ]
    }
   ],
   "source": [
    "def concatenate_strings(*args):\n",
    "    result = \"\"\n",
    "    for arg in args:\n",
    "        result += arg\n",
    "    return result\n",
    "\n",
    "# Calling the function\n",
    "print(concatenate_strings(\"Hello\", \" \", \"World\", \"!\"))"
   ]
  },
  {
   "cell_type": "markdown",
   "id": "2b9cbf6f-c385-4ebb-8c2d-a2c8fc93cbed",
   "metadata": {},
   "source": [
    "the **kwargs parameter allows you to pass a variable number of keyword arguments to a function. It collects the keyword arguments into a dictionary within the function. Similarly to *args, the name kwargs is a convention, and you can use any valid variable name preceded by two asterisks (**).\n",
    "\n",
    "Here's an example of a function that demonstrates the use of **kwargs:"
   ]
  },
  {
   "cell_type": "code",
   "execution_count": 3,
   "id": "5716fd4a-f8cc-4c30-81ff-2b18b76da7ce",
   "metadata": {},
   "outputs": [
    {
     "name": "stdout",
     "output_type": "stream",
     "text": [
      "name: John Doe\n",
      "age: 25\n",
      "city: New York\n"
     ]
    }
   ],
   "source": [
    "def print_person_info(**kwargs):\n",
    "    for key, value in kwargs.items():\n",
    "        print(f\"{key}: {value}\")\n",
    "\n",
    "# Calling the function\n",
    "print_person_info(name=\"John Doe\", age=25, city=\"New York\")"
   ]
  },
  {
   "cell_type": "markdown",
   "id": "44b6879e-66ee-422e-8a53-07303121a01c",
   "metadata": {},
   "source": [
    "Q3. What is an iterator in python? Name the method used to initialise the iterator object and the method\n",
    "used for iteration. Use these methods to print the first five elements of the given list [2, 4, 6, 8, 10, 12, 14,\n",
    "16, 18, 20]."
   ]
  },
  {
   "cell_type": "markdown",
   "id": "a863d95c-02b2-4721-99b8-88d908dcebec",
   "metadata": {},
   "source": [
    "In Python, an iterator is an object that implements the iterator protocol, which consists of the __iter__() and __next__() methods. Iterators are used to iterate over a sequence of elements, such as a list, tuple, or custom-defined object.\n",
    "\n",
    "The __iter__() method is used to initialize the iterator object. It returns the iterator object itself. This method is called when you want to iterate over the elements of the sequence."
   ]
  },
  {
   "cell_type": "code",
   "execution_count": 4,
   "id": "5bbd8817-9d58-49af-9893-214925cba0ad",
   "metadata": {},
   "outputs": [
    {
     "name": "stdout",
     "output_type": "stream",
     "text": [
      "2\n",
      "4\n",
      "6\n",
      "8\n",
      "10\n"
     ]
    }
   ],
   "source": [
    "#Here's an example that demonstrates the use of an iterator to print the first five elements of the given list [2, 4, 6, 8, 10, 12, 14, 16, 18, 20]:\n",
    "\n",
    "numbers = [2, 4, 6, 8, 10, 12, 14, 16, 18, 20]\n",
    "\n",
    "# Create an iterator object\n",
    "iterator = iter(numbers)\n",
    "\n",
    "# Print the first five elements using the iterator\n",
    "for _ in range(5):\n",
    "    element = next(iterator)\n",
    "    print(element)"
   ]
  },
  {
   "cell_type": "markdown",
   "id": "46192e95-8d3a-41aa-9d29-d9fbb24c68da",
   "metadata": {},
   "source": [
    "Q4. What is a generator function in python? Why yield keyword is used? Give an example of a generator\n",
    "function."
   ]
  },
  {
   "cell_type": "markdown",
   "id": "8efb71bd-f97d-4254-b064-bff8ef48e4fc",
   "metadata": {},
   "source": [
    "In Python, a generator function is a special type of function that generates a sequence of values using the yield keyword. It allows you to create iterators in a more concise and memory-efficient way compared to using regular functions or classes.\n",
    "The yield keyword is used within a generator function to define the value that will be produced in each iteration of the sequence\n",
    "The use of yield allows the generator function to produce a series of values one at a time, rather than returning a single value and terminating the function. This lazy evaluation enables generators to generate values on-the-fly, making them memory-efficient for working with large or infinite sequences."
   ]
  },
  {
   "cell_type": "code",
   "execution_count": 5,
   "id": "2b331a08-f980-436d-85d7-c27857443226",
   "metadata": {},
   "outputs": [
    {
     "name": "stdout",
     "output_type": "stream",
     "text": [
      "0\n",
      "1\n",
      "4\n",
      "9\n",
      "16\n"
     ]
    }
   ],
   "source": [
    "def square_numbers(n):\n",
    "    for i in range(n):\n",
    "        yield i ** 2\n",
    "# Create a generator object\n",
    "generator = square_numbers(5)\n",
    "\n",
    "# Iterate over the generator and print the square numbers\n",
    "for num in generator:\n",
    "    print(num)"
   ]
  },
  {
   "cell_type": "markdown",
   "id": "7e3c852a-b2bd-42f6-815e-c3629a448c06",
   "metadata": {},
   "source": [
    "Q5. Create a generator function for prime numbers less than 1000. Use the next() method to print the\n",
    "first 20 prime numbers."
   ]
  },
  {
   "cell_type": "code",
   "execution_count": 6,
   "id": "c3fb55a3-d799-4bc2-80a3-d72580003de3",
   "metadata": {},
   "outputs": [
    {
     "name": "stdout",
     "output_type": "stream",
     "text": [
      "2\n",
      "3\n",
      "5\n",
      "7\n",
      "11\n",
      "13\n",
      "17\n",
      "19\n",
      "23\n",
      "29\n",
      "31\n",
      "37\n",
      "41\n",
      "43\n",
      "47\n",
      "53\n",
      "59\n",
      "61\n",
      "67\n",
      "71\n"
     ]
    }
   ],
   "source": [
    "def prime_generator():\n",
    "    primes = []\n",
    "    num = 2\n",
    "    while True:\n",
    "        if all(num % prime != 0 for prime in primes):\n",
    "            primes.append(num)\n",
    "            yield num\n",
    "        num += 1\n",
    "\n",
    "# Create a generator object\n",
    "generator = prime_generator()\n",
    "\n",
    "# Print the first 20 prime numbers using next()\n",
    "for _ in range(20):\n",
    "    prime = next(generator)\n",
    "    print(prime)"
   ]
  },
  {
   "cell_type": "markdown",
   "id": "4b021c08-f9ce-467a-8c5d-f48218827be2",
   "metadata": {},
   "source": [
    "Q6. Write a python program to print the first 10 Fibonacci numbers using a while loop."
   ]
  },
  {
   "cell_type": "code",
   "execution_count": 8,
   "id": "6c29471a-4374-4479-aef3-a1e12bd10f3c",
   "metadata": {},
   "outputs": [
    {
     "name": "stdout",
     "output_type": "stream",
     "text": [
      "0\n",
      "1\n",
      "1\n",
      "2\n",
      "3\n",
      "5\n",
      "8\n",
      "13\n",
      "21\n",
      "34\n"
     ]
    }
   ],
   "source": [
    "# Function to print the first 10 Fibonacci numbers\n",
    "def print_fibonacci():\n",
    "    n = 10  # Number of Fibonacci numbers to print\n",
    "    count = 0\n",
    "    a, b = 0, 1  # First two numbers in the Fibonacci sequence\n",
    "\n",
    "    while count < n:\n",
    "        print(a)\n",
    "        a, b = b, a + b\n",
    "        count += 1\n",
    "        # Call the function to print the Fibonacci numbers\n",
    "print_fibonacci()"
   ]
  },
  {
   "cell_type": "markdown",
   "id": "53e58fd3-e00e-4e63-aff3-ec0c3952f087",
   "metadata": {},
   "source": [
    "Q7. Write a List Comprehension to iterate through the given string: ‘pwskills’.\n",
    "Expected output: ['p', 'w', 's', 'k', 'i', 'l', 'l', 's']"
   ]
  },
  {
   "cell_type": "code",
   "execution_count": 9,
   "id": "81cff59c-6f68-4e28-bbed-5086d5242719",
   "metadata": {},
   "outputs": [
    {
     "name": "stdout",
     "output_type": "stream",
     "text": [
      "['p', 'w', 's', 'k', 'i', 'l', 'l', 's']\n"
     ]
    }
   ],
   "source": [
    "string = 'pwskills'\n",
    "result = [char for char in string]\n",
    "print(result)"
   ]
  },
  {
   "cell_type": "markdown",
   "id": "4d7f3e65-eba6-4ea6-b405-fa035f22ef38",
   "metadata": {},
   "source": [
    "Q8. Write a python program to check whether a given number is Palindrome or not using a while loop."
   ]
  },
  {
   "cell_type": "code",
   "execution_count": 10,
   "id": "ceff889f-4ba0-4fa9-a45d-8f4d0e088384",
   "metadata": {},
   "outputs": [
    {
     "name": "stdin",
     "output_type": "stream",
     "text": [
      "Enter a number:  19\n"
     ]
    },
    {
     "name": "stdout",
     "output_type": "stream",
     "text": [
      "19 is not a palindrome\n"
     ]
    }
   ],
   "source": [
    "def is_palindrome(number):\n",
    "    original_number = number\n",
    "    reversed_number = 0\n",
    "\n",
    "    while number > 0:\n",
    "        digit = number % 10\n",
    "        reversed_number = (reversed_number * 10) + digit\n",
    "        number = number // 10\n",
    "\n",
    "    if original_number == reversed_number:\n",
    "        return True\n",
    "    else:\n",
    "        return False\n",
    "\n",
    "# Test the function\n",
    "number = int(input(\"Enter a number: \"))\n",
    "if is_palindrome(number):\n",
    "    print(f\"{number} is a palindrome\")\n",
    "else:\n",
    "    print(f\"{number} is not a palindrome\")\n"
   ]
  },
  {
   "cell_type": "markdown",
   "id": "f9086beb-2366-40a5-9827-4b6d2acb4a52",
   "metadata": {},
   "source": [
    "Q9. Write a code to print odd numbers from 1 to 100 using list comprehension."
   ]
  },
  {
   "cell_type": "code",
   "execution_count": 11,
   "id": "f6697cb5-18b7-4519-9e69-fab91ba5de1c",
   "metadata": {},
   "outputs": [
    {
     "name": "stdout",
     "output_type": "stream",
     "text": [
      "[1, 3, 5, 7, 9, 11, 13, 15, 17, 19, 21, 23, 25, 27, 29, 31, 33, 35, 37, 39, 41, 43, 45, 47, 49, 51, 53, 55, 57, 59, 61, 63, 65, 67, 69, 71, 73, 75, 77, 79, 81, 83, 85, 87, 89, 91, 93, 95, 97, 99]\n"
     ]
    }
   ],
   "source": [
    "numbers = [num for num in range(1, 101)]\n",
    "odd_numbers = [num for num in numbers if num % 2 != 0]\n",
    "print(odd_numbers)"
   ]
  },
  {
   "cell_type": "code",
   "execution_count": null,
   "id": "080dc8a9-e1d1-4312-b5ef-72d6a3c4adf3",
   "metadata": {},
   "outputs": [],
   "source": []
  }
 ],
 "metadata": {
  "kernelspec": {
   "display_name": "Python 3 (ipykernel)",
   "language": "python",
   "name": "python3"
  },
  "language_info": {
   "codemirror_mode": {
    "name": "ipython",
    "version": 3
   },
   "file_extension": ".py",
   "mimetype": "text/x-python",
   "name": "python",
   "nbconvert_exporter": "python",
   "pygments_lexer": "ipython3",
   "version": "3.10.8"
  }
 },
 "nbformat": 4,
 "nbformat_minor": 5
}
