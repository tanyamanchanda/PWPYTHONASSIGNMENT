{
 "cells": [
  {
   "cell_type": "markdown",
   "id": "9fadb158-c804-41df-82b3-b83657d5ec14",
   "metadata": {},
   "source": [
    "ASSIGNMENT -1 BY TANYA MANCHANDA"
   ]
  },
  {
   "cell_type": "markdown",
   "id": "060bef7b-1706-4797-85d9-7265294b00fa",
   "metadata": {},
   "source": [
    "Q1. Create one variable containing following type of data:"
   ]
  },
  {
   "cell_type": "code",
   "execution_count": 7,
   "id": "361ee58e-c928-4dff-93c3-a94495dbc588",
   "metadata": {},
   "outputs": [],
   "source": [
    "#(i) string\n",
    "s=\"string\""
   ]
  },
  {
   "cell_type": "code",
   "execution_count": 8,
   "id": "d6ff16c8-b81d-4ac2-aebc-e8051c402fa0",
   "metadata": {},
   "outputs": [
    {
     "data": {
      "text/plain": [
       "str"
      ]
     },
     "execution_count": 8,
     "metadata": {},
     "output_type": "execute_result"
    }
   ],
   "source": [
    "type(s)"
   ]
  },
  {
   "cell_type": "code",
   "execution_count": 4,
   "id": "9fcb2dd6-6a5c-42b7-9f44-9d9baf2e42ba",
   "metadata": {},
   "outputs": [],
   "source": [
    "#(ii) list\n",
    "fruits = ['apple', 'banana', 'orange', 'kiwi']"
   ]
  },
  {
   "cell_type": "code",
   "execution_count": 5,
   "id": "cc572352-b4fe-45e4-a34f-fc307f8b8c7b",
   "metadata": {},
   "outputs": [
    {
     "data": {
      "text/plain": [
       "list"
      ]
     },
     "execution_count": 5,
     "metadata": {},
     "output_type": "execute_result"
    }
   ],
   "source": [
    "type(fruits)"
   ]
  },
  {
   "cell_type": "code",
   "execution_count": 9,
   "id": "b54cbd91-3b13-4ab6-9659-afcad0d2887e",
   "metadata": {},
   "outputs": [],
   "source": [
    "#(iii) float\n",
    "f=6.67"
   ]
  },
  {
   "cell_type": "code",
   "execution_count": 10,
   "id": "ab0c1df4-9dce-4f05-82ac-e5a2e9444cc1",
   "metadata": {},
   "outputs": [
    {
     "data": {
      "text/plain": [
       "float"
      ]
     },
     "execution_count": 10,
     "metadata": {},
     "output_type": "execute_result"
    }
   ],
   "source": [
    "type(f)"
   ]
  },
  {
   "cell_type": "code",
   "execution_count": 12,
   "id": "789453df-198a-4120-846a-9caaa3729653",
   "metadata": {},
   "outputs": [],
   "source": [
    "#(iv) tuple\n",
    "num = (1, 2, 3, 4, 5)"
   ]
  },
  {
   "cell_type": "code",
   "execution_count": 13,
   "id": "b2c8b298-7275-491c-9ab5-a14c27350e72",
   "metadata": {},
   "outputs": [
    {
     "data": {
      "text/plain": [
       "tuple"
      ]
     },
     "execution_count": 13,
     "metadata": {},
     "output_type": "execute_result"
    }
   ],
   "source": [
    "type(num)"
   ]
  },
  {
   "cell_type": "markdown",
   "id": "8aab902c-dcc5-47fb-aa54-d807be0e0a48",
   "metadata": {},
   "source": [
    "Q2. Given are some following variables containing data:\n",
    "What will be the data type of the above given variable.\n",
    "(i) var1 = ‘ ‘- STRING\n",
    "(ii) var2 = ‘[ DS , ML , Python]’= String\n",
    "(iii) var3 = [ ‘DS’ , ’ML’ , ‘Python’ ]-List\n",
    "(iv) var4 = 1.-Float"
   ]
  },
  {
   "cell_type": "code",
   "execution_count": 22,
   "id": "4e990061-4222-4991-87de-c04908c5ed43",
   "metadata": {},
   "outputs": [],
   "source": [
    "var1 = ' '"
   ]
  },
  {
   "cell_type": "code",
   "execution_count": 23,
   "id": "c5d3dde5-2d97-4a24-be0b-c282e3be82e9",
   "metadata": {},
   "outputs": [
    {
     "data": {
      "text/plain": [
       "str"
      ]
     },
     "execution_count": 23,
     "metadata": {},
     "output_type": "execute_result"
    }
   ],
   "source": [
    "type(var1)"
   ]
  },
  {
   "cell_type": "code",
   "execution_count": 24,
   "id": "6c1830d0-f412-4dc9-922f-7878329d0e6e",
   "metadata": {},
   "outputs": [],
   "source": [
    "var2 = '[ DS , ML , Python]'"
   ]
  },
  {
   "cell_type": "code",
   "execution_count": 25,
   "id": "1d53eb09-79c8-4339-bf96-2c301ae9429d",
   "metadata": {},
   "outputs": [
    {
     "data": {
      "text/plain": [
       "str"
      ]
     },
     "execution_count": 25,
     "metadata": {},
     "output_type": "execute_result"
    }
   ],
   "source": [
    "type(var2)"
   ]
  },
  {
   "cell_type": "code",
   "execution_count": 20,
   "id": "bf4389c9-7771-4b39-9ed3-4505bc9427cf",
   "metadata": {},
   "outputs": [],
   "source": [
    "var3 = ['DS' ,'ML' ,'Python' ]"
   ]
  },
  {
   "cell_type": "code",
   "execution_count": 21,
   "id": "364ae96f-fda2-433c-b03a-68dfecfc630c",
   "metadata": {},
   "outputs": [
    {
     "data": {
      "text/plain": [
       "list"
      ]
     },
     "execution_count": 21,
     "metadata": {},
     "output_type": "execute_result"
    }
   ],
   "source": [
    "type(var3)"
   ]
  },
  {
   "cell_type": "code",
   "execution_count": 17,
   "id": "a1c7a652-170a-441f-a3f0-b8c2b2939fff",
   "metadata": {},
   "outputs": [],
   "source": [
    "var4 = 1."
   ]
  },
  {
   "cell_type": "code",
   "execution_count": 18,
   "id": "4950df2f-a9d6-4f31-b64a-c3b32414cf81",
   "metadata": {},
   "outputs": [
    {
     "data": {
      "text/plain": [
       "float"
      ]
     },
     "execution_count": 18,
     "metadata": {},
     "output_type": "execute_result"
    }
   ],
   "source": [
    "type(var4)"
   ]
  },
  {
   "cell_type": "markdown",
   "id": "8b0686f2-ad3a-4f6a-82fd-cfefc508ec54",
   "metadata": {},
   "source": [
    "Q3. Explain the use of the following operators using an example:\n",
    "(i) /\n",
    "(ii) %\n",
    "(iii) //\n",
    "(iv) **"
   ]
  },
  {
   "cell_type": "code",
   "execution_count": 1,
   "id": "4e6fd3eb-f930-4fd7-8820-1d4737b38872",
   "metadata": {},
   "outputs": [],
   "source": [
    "a=10\n",
    "b=15"
   ]
  },
  {
   "cell_type": "code",
   "execution_count": 2,
   "id": "5fc7b06e-e1e3-498c-997c-0a202988a1a9",
   "metadata": {},
   "outputs": [
    {
     "data": {
      "text/plain": [
       "0.6666666666666666"
      ]
     },
     "execution_count": 2,
     "metadata": {},
     "output_type": "execute_result"
    }
   ],
   "source": [
    "a/b"
   ]
  },
  {
   "cell_type": "code",
   "execution_count": 3,
   "id": "a988d4ef-818c-48fd-b22a-4b284112f6e4",
   "metadata": {},
   "outputs": [
    {
     "data": {
      "text/plain": [
       "1"
      ]
     },
     "execution_count": 3,
     "metadata": {},
     "output_type": "execute_result"
    }
   ],
   "source": [
    "a%3"
   ]
  },
  {
   "cell_type": "code",
   "execution_count": 5,
   "id": "ff8ae635-f411-4f6d-89de-bb6395d93fcb",
   "metadata": {},
   "outputs": [
    {
     "data": {
      "text/plain": [
       "3"
      ]
     },
     "execution_count": 5,
     "metadata": {},
     "output_type": "execute_result"
    }
   ],
   "source": [
    "a//3"
   ]
  },
  {
   "cell_type": "code",
   "execution_count": 6,
   "id": "e69779ff-c9d5-4b16-8cf3-84e135c76cea",
   "metadata": {},
   "outputs": [
    {
     "data": {
      "text/plain": [
       "100"
      ]
     },
     "execution_count": 6,
     "metadata": {},
     "output_type": "execute_result"
    }
   ],
   "source": [
    "a**2"
   ]
  },
  {
   "cell_type": "markdown",
   "id": "5ba93d99-425c-47ab-9001-cfb4159c5598",
   "metadata": {},
   "source": [
    "Q4. Create a list of length 10 of your choice containing multiple types of data. Using for loop print the\n",
    "element and its data type."
   ]
  },
  {
   "cell_type": "code",
   "execution_count": 8,
   "id": "be50fde9-db12-4971-8dc3-2216c5b5ebf7",
   "metadata": {},
   "outputs": [
    {
     "name": "stdout",
     "output_type": "stream",
     "text": [
      "hello: <class 'str'>\n",
      "7: <class 'int'>\n",
      "3.7: <class 'float'>\n",
      "True: <class 'bool'>\n",
      "788: <class 'int'>\n",
      "banana: <class 'str'>\n",
      "2.4: <class 'float'>\n",
      "False: <class 'bool'>\n",
      "orange: <class 'str'>\n",
      "8: <class 'int'>\n"
     ]
    }
   ],
   "source": [
    "alist = ['hello', 7, 3.7, True,788, 'banana', 2.4, False, 'orange', 8]\n",
    "\n",
    "for item in alist:\n",
    "    print(f\"{item}: {type(item)}\")"
   ]
  },
  {
   "cell_type": "markdown",
   "id": "1c7bd8a8-41e0-4678-8ccd-4531bfc4ee1a",
   "metadata": {},
   "source": [
    "Q5. Using a while loop, verify if the number A is purely divisible by number B and if so then how many\n",
    "times it can be divisible."
   ]
  },
  {
   "cell_type": "code",
   "execution_count": 23,
   "id": "1852db9d-2d0c-4450-abca-0b2043148649",
   "metadata": {},
   "outputs": [
    {
     "name": "stdout",
     "output_type": "stream",
     "text": [
      "A is divisible by B exactly 2 times.\n"
     ]
    }
   ],
   "source": [
    "A = 50\n",
    "B = 5\n",
    "count = 0\n",
    "\n",
    "while A % B == 0:\n",
    "    A = A / B\n",
    "    count += 1\n",
    "\n",
    "if count > 0:\n",
    "    print(f\"A is divisible by B exactly {count} times.\")\n",
    "else:\n",
    "    print(f\"A is not divisible by B.\")"
   ]
  },
  {
   "cell_type": "markdown",
   "id": "b0742075-9fc7-471a-b0de-6b9c288ebb6a",
   "metadata": {},
   "source": [
    "Q6. Create a list containing 25 int type data. Using for loop and if-else condition print if the element is\n",
    "divisible by 3 or not."
   ]
  },
  {
   "cell_type": "code",
   "execution_count": 25,
   "id": "baa4d894-61f1-4991-a6d0-5b0c2f819535",
   "metadata": {},
   "outputs": [
    {
     "name": "stdout",
     "output_type": "stream",
     "text": [
      "10 is not divisible by 3\n",
      "15 is divisible by 3\n",
      "20 is not divisible by 3\n",
      "25 is not divisible by 3\n",
      "30 is divisible by 3\n",
      "35 is not divisible by 3\n",
      "40 is not divisible by 3\n",
      "45 is divisible by 3\n",
      "50 is not divisible by 3\n",
      "55 is not divisible by 3\n",
      "60 is divisible by 3\n",
      "65 is not divisible by 3\n",
      "70 is not divisible by 3\n",
      "75 is divisible by 3\n",
      "80 is not divisible by 3\n",
      "85 is not divisible by 3\n",
      "90 is divisible by 3\n",
      "95 is not divisible by 3\n",
      "100 is not divisible by 3\n",
      "105 is divisible by 3\n",
      "110 is not divisible by 3\n",
      "115 is not divisible by 3\n",
      "120 is divisible by 3\n",
      "125 is not divisible by 3\n",
      "130 is not divisible by 3\n"
     ]
    }
   ],
   "source": [
    "nlist = [10, 15, 20, 25, 30, 35, 40, 45, 50, 55, 60, 65, 70, 75, 80, 85, 90, 95, 100, 105, 110, 115, 120, 125, 130]\n",
    "\n",
    "for num in nlist:\n",
    "    if num % 3 == 0:\n",
    "        print(f\"{num} is divisible by 3\")\n",
    "    else:\n",
    "        print(f\"{num} is not divisible by 3\")"
   ]
  },
  {
   "cell_type": "markdown",
   "id": "ce00d152-8958-45e1-bc22-4b32cd53002e",
   "metadata": {},
   "source": [
    "Q7. What do you understand about mutable and immutable data types? Give examples for both showing\n",
    "this property."
   ]
  },
  {
   "cell_type": "markdown",
   "id": "80d1b1ce-a250-4455-aac7-47d326168581",
   "metadata": {},
   "source": [
    "Immutable data types are those that cannot be changed or modified once they are created. \n",
    "If we try to modify an immutable object, Python creates a new object instead of modifying the existing one.\n",
    "Examples of immutable data types in Python include strings, and tuples"
   ]
  },
  {
   "cell_type": "code",
   "execution_count": 27,
   "id": "c950a0b9-1559-4729-bcba-e0f207b30f64",
   "metadata": {},
   "outputs": [
    {
     "name": "stdout",
     "output_type": "stream",
     "text": [
      "hello world\n",
      "(1, 2, 3, 4, 5, 6)\n"
     ]
    }
   ],
   "source": [
    "g = \"hello\"  # string\n",
    "h = (1, 2, 3)  # tuple\n",
    "\n",
    "# Trying to modify b, and c\n",
    "g += \" world\"\n",
    "h += (4, 5, 6)\n",
    "\n",
    "# Printing a, b, and c\n",
    "print(g)  \n",
    "print(h) "
   ]
  },
  {
   "cell_type": "markdown",
   "id": "29b7b04d-6e37-4a12-bd81-488899c23c94",
   "metadata": {},
   "source": [
    "Mutable data types, on the other hand, are those that can be changed or modified in place. \n",
    "Examples of mutable data types in Python include lists"
   ]
  },
  {
   "cell_type": "code",
   "execution_count": null,
   "id": "0a8c6595-04a1-4fb8-a1ea-d17733b820bf",
   "metadata": {},
   "outputs": [],
   "source": [
    "my_list = [1, 2, 3, 4, 5]\n",
    "\n",
    "# Modifying my_list\n",
    "my_list[2] = 10\n",
    "my_list.append(6)\n",
    "\n",
    "# Printing my_list\n",
    "print(my_list)  # Output: [1, 2, 10, 4, 5, 6]"
   ]
  }
 ],
 "metadata": {
  "kernelspec": {
   "display_name": "Python 3 (ipykernel)",
   "language": "python",
   "name": "python3"
  },
  "language_info": {
   "codemirror_mode": {
    "name": "ipython",
    "version": 3
   },
   "file_extension": ".py",
   "mimetype": "text/x-python",
   "name": "python",
   "nbconvert_exporter": "python",
   "pygments_lexer": "ipython3",
   "version": "3.10.8"
  }
 },
 "nbformat": 4,
 "nbformat_minor": 5
}
