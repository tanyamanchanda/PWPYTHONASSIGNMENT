{
 "cells": [
  {
   "cell_type": "markdown",
   "id": "506c8d43-a9be-45f8-9d78-c497f1e4c5f4",
   "metadata": {},
   "source": [
    "Q1. What is multiprocessing in python? Why is it useful?"
   ]
  },
  {
   "cell_type": "markdown",
   "id": "fc5ad24d-17b1-43eb-a5f6-756c004500ca",
   "metadata": {},
   "source": [
    "Multiprocessing in Python refers to the ability of a program to execute multiple processes concurrently, where each process runs independently and can utilize separate CPU cores. It allows for parallel execution of tasks, taking advantage of multiple processors or cores available in a system.\n",
    "\n",
    "Python's multiprocessing module provides a way to create and manage processes in a program. It offers a high-level interface for spawning processes, sharing data between processes, and synchronizing their execution.\n",
    "\n",
    "Here are some reasons why multiprocessing is useful:\n",
    "\n",
    "1. Increased Performance: By utilizing multiple processes, multiprocessing allows for parallel execution of tasks, leading to improved performance. It can significantly reduce the execution time for CPU-bound tasks, as each process runs independently on a separate core, effectively utilizing the available processing power.\n",
    "\n",
    "2. Efficient Resource Utilization: Multiprocessing enables efficient utilization of system resources, especially when dealing with computationally intensive or time-consuming tasks. By distributing the workload across multiple processes, the program can maximize the use of available CPU cores and complete tasks more quickly.\n",
    "\n",
    "3. Improved Responsiveness: Multiprocessing helps maintain the responsiveness of a program, especially when dealing with tasks that involve blocking or waiting for I/O operations. By executing I/O operations in separate processes, the main process remains responsive and can continue executing other tasks while waiting for I/O operations to complete.\n"
   ]
  },
  {
   "cell_type": "markdown",
   "id": "482b7c91-1386-4403-a506-906b0f6834e0",
   "metadata": {},
   "source": [
    "Q2. What are the differences between multiprocessing and multithreading?"
   ]
  },
  {
   "cell_type": "markdown",
   "id": "3f7c50a6-6c94-414f-9055-3230ae11a395",
   "metadata": {},
   "source": [
    "Execution Model:\n",
    "Multiprocessing: In multiprocessing, multiple processes are created, and each process runs independently with its own memory space. Each process has its own instance of the Python interpreter, allowing for true parallel execution on separate CPU cores.\n",
    "Multithreading: In multithreading, multiple threads are created within a single process. All threads share the same memory space and resources of the parent process. The threads take turns executing their tasks, typically in a time-sliced manner (unless explicitly configured for parallel execution).\n",
    "Concurrency vs. Parallelism:\n",
    "\n",
    "Multiprocessing: Multiprocessing enables true parallelism by running multiple processes simultaneously on separate CPU cores. Each process executes independently, allowing for efficient utilization of available processing power.\n",
    "Multithreading: Multithreading achieves concurrency, where multiple threads execute concurrently within the same process. However, due to the Global Interpreter Lock (GIL) in CPython (the reference implementation of Python), only one thread can execute Python bytecode at a time, limiting the parallelism within a single process.\n",
    "ommunication and Data Sharing:\n",
    "Multiprocessing: Processes have separate memory spaces, and communication between them typically involves explicit mechanisms like pipes, queues, shared memory, or sockets. Data sharing requires explicit synchronization to ensure consistency and avoid race conditions.\n",
    "Multithreading: Threads share the same memory space and can communicate and share data more easily. However, caution must be exercised to synchronize access to shared data and prevent race conditions or other synchronization issues.\n",
    "Resource Overhead:\n",
    "\n",
    "Multiprocessing: Each process has its own memory space, including a separate copy of the Python interpreter and other resources. This can result in higher memory consumption and overhead compared to multithreading.\n",
    "Multithreading: Threads within a process share the same memory space and resources. They have lower memory overhead compared to processes, as they do not require separate copies of the interpreter. However, they may still have additional overhead due to thread management and synchronization.\n",
    "Stability and Error Isolation:\n",
    "Multiprocessing: Processes run independently, so an error or crash in one process does not affect the execution of other processes. It provides better stability and isolation, but inter-process communication and synchronization can introduce complexity."
   ]
  },
  {
   "cell_type": "markdown",
   "id": "c4f5d33f-b4a8-479f-8578-54b8d4ee87bc",
   "metadata": {},
   "source": [
    "Q3. Write a python code to create a process using the multiprocessing module."
   ]
  },
  {
   "cell_type": "code",
   "execution_count": 2,
   "id": "66d83be4-5d62-4bcc-8b71-b1362685d5a0",
   "metadata": {},
   "outputs": [
    {
     "name": "stdout",
     "output_type": "stream",
     "text": [
      "Square: 1\n",
      "Square: 4\n",
      "Square: 9\n",
      "Square: 16\n",
      "Square: 25\n",
      "Process finished.\n"
     ]
    }
   ],
   "source": [
    "import multiprocessing\n",
    "\n",
    "def square_numbers(numbers):\n",
    "    for num in numbers:\n",
    "        result = num ** 2\n",
    "        print(f\"Square: {result}\")\n",
    "\n",
    "if __name__ == \"__main__\":\n",
    "    numbers = [1, 2, 3, 4, 5]\n",
    "\n",
    "    # Create a process\n",
    "    process = multiprocessing.Process(target=square_numbers, args=(numbers,))\n",
    "\n",
    "    # Start the process\n",
    "    process.start()\n",
    "\n",
    "    # Wait for the process to finish\n",
    "    process.join()\n",
    "\n",
    "    print(\"Process finished.\")\n"
   ]
  },
  {
   "cell_type": "markdown",
   "id": "ee53fc42-915f-4de3-87dc-991d27b01cd1",
   "metadata": {},
   "source": [
    "Q4. What is a multiprocessing pool in python? Why is it used?"
   ]
  },
  {
   "cell_type": "markdown",
   "id": "43272caa-cf7d-44e8-b09b-b11c2e647de4",
   "metadata": {},
   "source": [
    "In Python, a multiprocessing pool refers to a collection of worker processes that are created to perform parallel processing tasks. The multiprocessing pool is provided by the multiprocessing module and is implemented using a set of worker processes, typically equal to the number of available CPU cores.\n",
    "\n",
    "Here's why multiprocessing pools are used and their benefits:\n",
    "\n",
    "Parallel Processing: Multiprocessing pools allow for the parallel execution of tasks. By utilizing multiple worker processes, each with its own CPU core, the pool can perform computations in parallel, thereby improving the overall performance and reducing the execution time.\n",
    "Efficient Resource Utilization: Multiprocessing pools make efficient use of available system resources. Instead of creating and managing individual processes manually, the pool automatically manages a fixed number of worker processes, optimizing their allocation and distribution of tasks. This helps maximize CPU utilization and minimizes the overhead of process creation and termination.\n",
    "\n",
    "Simplified Task Distribution: With a multiprocessing pool, you can easily distribute tasks across the available worker processes. You provide a set of tasks to the pool, which automatically assigns these tasks to the worker processes in an efficient manner. This abstraction simplifies the task distribution process and allows you to focus on the logic of the individual tasks.\n",
    "\n",
    "Load Balancing: Multiprocessing pools typically implement load balancing strategies to distribute tasks evenly among the worker processes. This ensures that the workload is evenly distributed across the available CPU cores, maximizing throughput and avoiding potential bottlenecks.\n",
    "\n",
    "Simplified Synchronization: The multiprocessing pool provides built-in mechanisms for synchronization, such as result retrieval and termination. You can submit tasks to the pool and retrieve their results asynchronously, allowing for efficient communication and coordination between the main program and the worker processes."
   ]
  },
  {
   "cell_type": "code",
   "execution_count": 3,
   "id": "8958bd57-8069-4a6f-973d-0ed687adb1c2",
   "metadata": {},
   "outputs": [
    {
     "name": "stdout",
     "output_type": "stream",
     "text": [
      "[1, 4, 9, 16, 25]\n"
     ]
    }
   ],
   "source": [
    "import multiprocessing\n",
    "\n",
    "def square(number):\n",
    "    return number ** 2\n",
    "\n",
    "if __name__ == \"__main__\":\n",
    "    numbers = [1, 2, 3, 4, 5]\n",
    "\n",
    "    # Create a multiprocessing pool with 4 worker processes\n",
    "    pool = multiprocessing.Pool(processes=4)\n",
    "\n",
    "    # Map the square function to the list of numbers using the pool\n",
    "    results = pool.map(square, numbers)\n",
    "\n",
    "    # Close the pool to prevent further tasks\n",
    "    pool.close()\n",
    "\n",
    "    # Wait for all processes in the pool to finish\n",
    "    pool.join()\n",
    "\n",
    "    # Print the results\n",
    "    print(results)\n"
   ]
  },
  {
   "cell_type": "markdown",
   "id": "7fa58a94-5609-4f27-84b4-2ffbab4a6d21",
   "metadata": {},
   "source": [
    "Q5. How can we create a pool of worker processes in python using the multiprocessing module?"
   ]
  },
  {
   "cell_type": "code",
   "execution_count": 4,
   "id": "acb6218c-637c-4a8a-ae24-54c70c334a2a",
   "metadata": {},
   "outputs": [],
   "source": [
    "#1.Import the multiprocessing module:\n",
    "import multiprocessing\n"
   ]
  },
  {
   "cell_type": "code",
   "execution_count": 5,
   "id": "1e39d129-1571-438f-ac8a-218707c847c7",
   "metadata": {},
   "outputs": [],
   "source": [
    "#2.Define a function that represents the task you want the worker processes to perform:\n",
    "def my_task(arg):\n",
    "    # Perform the task\n",
    "    # ...\n",
    "    return result\n"
   ]
  },
  {
   "cell_type": "code",
   "execution_count": 6,
   "id": "69ea7478-6131-497f-86ed-055f59c68dbf",
   "metadata": {},
   "outputs": [],
   "source": [
    "#3.Create a Pool object with the desired number of worker processes:\n",
    "pool = multiprocessing.Pool(processes=4)  # Creates a pool with 4 worker processes\n"
   ]
  },
  {
   "cell_type": "code",
   "execution_count": 13,
   "id": "89821ed8-fda7-4fa9-98f3-930ad28a3e18",
   "metadata": {},
   "outputs": [
    {
     "ename": "NameError",
     "evalue": "name 'arg' is not defined",
     "output_type": "error",
     "traceback": [
      "\u001b[0;31m---------------------------------------------------------------------------\u001b[0m",
      "\u001b[0;31mNameError\u001b[0m                                 Traceback (most recent call last)",
      "Cell \u001b[0;32mIn[13], line 2\u001b[0m\n\u001b[1;32m      1\u001b[0m \u001b[38;5;66;03m#4.Submit tasks to the pool for processing using the apply, map, or imap methods: apply method:\u001b[39;00m\n\u001b[0;32m----> 2\u001b[0m result \u001b[38;5;241m=\u001b[39m pool\u001b[38;5;241m.\u001b[39mapply(my_task, args\u001b[38;5;241m=\u001b[39m(\u001b[43marg\u001b[49m,))\n\u001b[1;32m      3\u001b[0m  \u001b[38;5;66;03m# Creates a pool with 4 worker processes\u001b[39;00m\n\u001b[1;32m      4\u001b[0m \n\u001b[1;32m      5\u001b[0m \u001b[38;5;66;03m#mapmethod\u001b[39;00m\n\u001b[1;32m      6\u001b[0m results \u001b[38;5;241m=\u001b[39m pool\u001b[38;5;241m.\u001b[39mmap(my_task, iterable)\n",
      "\u001b[0;31mNameError\u001b[0m: name 'arg' is not defined"
     ]
    }
   ],
   "source": [
    "#4.Submit tasks to the pool for processing using the apply, map, or imap methods: apply method:\n",
    "result = pool.apply(my_task, args=(arg,))\n",
    " # Creates a pool with 4 worker processes\n",
    "\n",
    "#mapmethod\n",
    "results = pool.map(my_task, iterable)\n",
    "results = pool.imap(my_task, iterable)\n",
    "\n",
    "\n"
   ]
  },
  {
   "cell_type": "code",
   "execution_count": 16,
   "id": "d2748a3d-d486-490f-a9ae-ac01639ed555",
   "metadata": {},
   "outputs": [],
   "source": [
    "#5.Close the pool to prevent any new tasks from being submitted:\n",
    "pool.close()\n",
    "#6.Wait for all the worker processes to finish executing their tasks:\n",
    "pool.join()\n",
    "#7.Retrieve and process the results if necessary:\n",
    "for result in results:\n",
    "    # Process the result\n",
    "    # ...\n",
    "#8.Terminate the pool and all associated worker processes:\n",
    "  pool.terminate()\n"
   ]
  },
  {
   "cell_type": "markdown",
   "id": "56af0f58-a7b2-49ba-bdd3-bfcc903f55b7",
   "metadata": {},
   "source": [
    "Q6. Write a python program to create 4 processes, each process should print a different number using the\n",
    "multiprocessing module in python."
   ]
  },
  {
   "cell_type": "code",
   "execution_count": null,
   "id": "bb759300-e073-4654-a2db-a31f4b14f745",
   "metadata": {},
   "outputs": [],
   "source": []
  }
 ],
 "metadata": {
  "kernelspec": {
   "display_name": "Python 3 (ipykernel)",
   "language": "python",
   "name": "python3"
  },
  "language_info": {
   "codemirror_mode": {
    "name": "ipython",
    "version": 3
   },
   "file_extension": ".py",
   "mimetype": "text/x-python",
   "name": "python",
   "nbconvert_exporter": "python",
   "pygments_lexer": "ipython3",
   "version": "3.10.8"
  }
 },
 "nbformat": 4,
 "nbformat_minor": 5
}
