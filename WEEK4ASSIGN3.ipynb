{
 "cells": [
  {
   "cell_type": "markdown",
   "id": "f4727d41-9ac4-4b1f-afab-be8c2d025d03",
   "metadata": {},
   "source": [
    "Q1. What is Abstraction in OOps? Explain with an example."
   ]
  },
  {
   "cell_type": "markdown",
   "id": "f4038d67-5544-41cd-937f-2c10862d12fa",
   "metadata": {},
   "source": [
    "Abstraction is a fundamental concept in object-oriented programming (OOP) that focuses on representing essential features or behaviors while hiding unnecessary details. It allows you to model complex systems in a simplified and more understandable way. Abstraction provides a high-level view or interface to interact with objects, without exposing their internal implementation.\n",
    "\n",
    "In OOP, abstraction is achieved through abstract classes and interfaces. Abstract classes define a common interface for a group of related classes, while interfaces define a contract that concrete classes must adhere to. Both abstract classes and interfaces cannot be instantiated directly; they serve as blueprints for subclasses or implementing classes."
   ]
  },
  {
   "cell_type": "code",
   "execution_count": 1,
   "id": "6d90a524-dfae-4191-a08d-5e76d5d9beb3",
   "metadata": {},
   "outputs": [
    {
     "name": "stdout",
     "output_type": "stream",
     "text": [
      "Drawing a circle.\n",
      "Drawing a square.\n"
     ]
    }
   ],
   "source": [
    "from abc import ABC, abstractmethod\n",
    "\n",
    "class Shape(ABC):\n",
    "    @abstractmethod\n",
    "    def draw(self):\n",
    "        pass\n",
    "\n",
    "class Circle(Shape):\n",
    "    def draw(self):\n",
    "        print(\"Drawing a circle.\")\n",
    "\n",
    "class Square(Shape):\n",
    "    def draw(self):\n",
    "        print(\"Drawing a square.\")\n",
    "\n",
    "# Instantiating objects of the concrete classes\n",
    "circle = Circle()\n",
    "square = Square()\n",
    "\n",
    "# Calling the draw() method on the objects\n",
    "circle.draw()  # Output: Drawing a circle.\n",
    "square.draw()  # Output: Drawing a square.\n"
   ]
  },
  {
   "cell_type": "markdown",
   "id": "6768003d-087b-4005-bb27-5ab3de1da986",
   "metadata": {},
   "source": [
    "Q2. Differentiate between Abstraction and Encapsulation. Explain with an example."
   ]
  },
  {
   "cell_type": "code",
   "execution_count": 2,
   "id": "8bc00f29-960d-4652-bb4f-828711ed363d",
   "metadata": {},
   "outputs": [
    {
     "name": "stdout",
     "output_type": "stream",
     "text": [
      "15\n",
      "153.86\n",
      "John\n",
      "Alice\n",
      "25\n",
      "25\n",
      "30\n"
     ]
    }
   ],
   "source": [
    "# Abstraction Example\n",
    "from abc import ABC, abstractmethod\n",
    "\n",
    "class Shape(ABC):\n",
    "    @abstractmethod\n",
    "    def calculate_area(self):\n",
    "        pass\n",
    "\n",
    "class Rectangle(Shape):\n",
    "    def __init__(self, length, width):\n",
    "        self.length = length\n",
    "        self.width = width\n",
    "    \n",
    "    def calculate_area(self):\n",
    "        return self.length * self.width\n",
    "\n",
    "class Circle(Shape):\n",
    "    def __init__(self, radius):\n",
    "        self.radius = radius\n",
    "    \n",
    "    def calculate_area(self):\n",
    "        return 3.14 * self.radius * self.radius\n",
    "\n",
    "# Creating objects of concrete classes\n",
    "rectangle = Rectangle(5, 3)\n",
    "circle = Circle(7)\n",
    "\n",
    "# Calling the calculate_area() method on objects\n",
    "print(rectangle.calculate_area())  # Output: 15\n",
    "print(circle.calculate_area())  # Output: 153.86\n",
    "\n",
    "\n",
    "# Encapsulation Example\n",
    "class Person:\n",
    "    def __init__(self, name, age):\n",
    "        self._name = name\n",
    "        self._age = age\n",
    "\n",
    "    def get_name(self):\n",
    "        return self._name\n",
    "\n",
    "    def set_name(self, name):\n",
    "        self._name = name\n",
    "\n",
    "    def get_age(self):\n",
    "        return self._age\n",
    "\n",
    "    def set_age(self, age):\n",
    "        if age >= 0:\n",
    "            self._age = age\n",
    "\n",
    "# Creating an object of Person class\n",
    "person = Person(\"John\", 25)\n",
    "\n",
    "# Accessing and modifying attributes using getter and setter methods\n",
    "print(person.get_name())  # Output: John\n",
    "person.set_name(\"Alice\")\n",
    "print(person.get_name())  # Output: Alice\n",
    "\n",
    "print(person.get_age())  # Output: 25\n",
    "person.set_age(-10)  # Age cannot be negative, so it won't be set\n",
    "print(person.get_age())  # Output: 25\n",
    "person.set_age(30)\n",
    "print(person.get_age())  # Output: 30\n"
   ]
  },
  {
   "cell_type": "markdown",
   "id": "27141a12-d93f-42a7-a008-3cc148b921be",
   "metadata": {},
   "source": [
    "Q3. What is abc module in python? Why is it used?"
   ]
  },
  {
   "cell_type": "markdown",
   "id": "912bfdca-90c4-4d6a-bbb1-e7426e61580a",
   "metadata": {},
   "source": [
    "The abc module in Python stands for Abstract Base Classes. It provides infrastructure for defining abstract base classes (ABCs) in Python. An abstract base class is a class that cannot be instantiated and is meant to be subclassed by other classes. It defines a common interface and set of methods that subclasses are expected to implement.\n",
    "\n",
    "The abc module is used for creating abstract base classes and enforcing abstraction in Python. It helps in achieving abstraction and defining interfaces by allowing you to define abstract methods that must be implemented by the subclasses."
   ]
  },
  {
   "cell_type": "code",
   "execution_count": 3,
   "id": "89c70635-438c-4f90-aadc-5f08a129a7f1",
   "metadata": {},
   "outputs": [
    {
     "name": "stdout",
     "output_type": "stream",
     "text": [
      "Car started.\n",
      "Car stopped.\n",
      "Bike started.\n",
      "Bike stopped.\n"
     ]
    }
   ],
   "source": [
    "from abc import ABC, abstractmethod\n",
    "\n",
    "class Vehicle(ABC):\n",
    "    @abstractmethod\n",
    "    def start(self):\n",
    "        pass\n",
    "\n",
    "    @abstractmethod\n",
    "    def stop(self):\n",
    "        pass\n",
    "\n",
    "class Car(Vehicle):\n",
    "    def start(self):\n",
    "        print(\"Car started.\")\n",
    "\n",
    "    def stop(self):\n",
    "        print(\"Car stopped.\")\n",
    "\n",
    "class Bike(Vehicle):\n",
    "    def start(self):\n",
    "        print(\"Bike started.\")\n",
    "\n",
    "    def stop(self):\n",
    "        print(\"Bike stopped.\")\n",
    "\n",
    "# Creating objects of concrete classes\n",
    "car = Car()\n",
    "bike = Bike()\n",
    "\n",
    "# Calling the start() and stop() methods on objects\n",
    "car.start()  # Output: Car started.\n",
    "car.stop()  # Output: Car stopped.\n",
    "\n",
    "bike.start()  # Output: Bike started.\n",
    "bike.stop()  # Output: Bike stopped.\n"
   ]
  },
  {
   "cell_type": "markdown",
   "id": "08db2bfb-a93b-4194-82ac-ebea536bf03a",
   "metadata": {},
   "source": [
    "Q4. How can we achieve data abstraction?"
   ]
  },
  {
   "cell_type": "markdown",
   "id": "f029170f-ebe1-41e5-9061-46822294f2a8",
   "metadata": {},
   "source": [
    "Data abstraction can be achieved in Python through the following techniques:\n",
    "\n",
    "Classes and Objects: By creating classes and objects, you can encapsulate data and related behavior together. Objects provide a way to interact with the data without exposing its internal details.\n",
    "\n",
    "Access Modifiers: Python provides access modifiers like public, private, and protected to control the visibility of data members within a class. By marking certain attributes or methods as private (using a single underscore prefix) or protected (using a double underscore prefix), you can restrict direct access to the data from outside the class.\n",
    "\n",
    "Getter and Setter Methods: Getter and setter methods (also known as accessor and mutator methods) provide controlled access to the class attributes. They allow you to retrieve and modify the values of private attributes while performing additional checks or operations if needed.\n",
    "\n",
    "Property Decorators: Python's property decorators (@property, @<attribute>.getter, @<attribute>.setter, @<attribute>.deleter) provide a more elegant way to define getter and setter methods. They allow you to access and modify attributes like regular attributes while providing the ability to execute custom logic or perform validation"
   ]
  },
  {
   "cell_type": "code",
   "execution_count": 4,
   "id": "172a65ef-45b4-4af9-a49a-fb855a0ba658",
   "metadata": {},
   "outputs": [
    {
     "name": "stdout",
     "output_type": "stream",
     "text": [
      "1234567890\n",
      "0987654321\n",
      "5000\n",
      "5000\n",
      "8000\n"
     ]
    }
   ],
   "source": [
    "#Here's an example that demonstrates data abstraction using classes, access modifiers, and getter/setter methods:\n",
    "class BankAccount:\n",
    "    def __init__(self, account_number, balance):\n",
    "        self._account_number = account_number\n",
    "        self._balance = balance\n",
    "\n",
    "    def get_account_number(self):\n",
    "        return self._account_number\n",
    "\n",
    "    def set_account_number(self, account_number):\n",
    "        self._account_number = account_number\n",
    "\n",
    "    def get_balance(self):\n",
    "        return self._balance\n",
    "\n",
    "    def set_balance(self, balance):\n",
    "        if balance >= 0:\n",
    "            self._balance = balance\n",
    "\n",
    "# Creating an object of the BankAccount class\n",
    "account = BankAccount(\"1234567890\", 5000)\n",
    "\n",
    "# Accessing and modifying attributes using getter and setter methods\n",
    "print(account.get_account_number())  # Output: 1234567890\n",
    "account.set_account_number(\"0987654321\")\n",
    "print(account.get_account_number())  # Output: 0987654321\n",
    "\n",
    "print(account.get_balance())  # Output: 5000\n",
    "account.set_balance(-1000)  # Negative balance not allowed\n",
    "print(account.get_balance())  # Output: 5000\n",
    "account.set_balance(8000)\n",
    "print(account.get_balance())  # Output: 8000"
   ]
  },
  {
   "cell_type": "markdown",
   "id": "bf811fd6-c205-445c-84d1-384ad2afc0f7",
   "metadata": {},
   "source": [
    "Q5. Can we create an instance of an abstract class? Explain your answer."
   ]
  },
  {
   "cell_type": "code",
   "execution_count": null,
   "id": "1be36d69-5437-47ae-8328-48cc57dc10ef",
   "metadata": {},
   "outputs": [],
   "source": []
  }
 ],
 "metadata": {
  "kernelspec": {
   "display_name": "Python 3 (ipykernel)",
   "language": "python",
   "name": "python3"
  },
  "language_info": {
   "codemirror_mode": {
    "name": "ipython",
    "version": 3
   },
   "file_extension": ".py",
   "mimetype": "text/x-python",
   "name": "python",
   "nbconvert_exporter": "python",
   "pygments_lexer": "ipython3",
   "version": "3.10.8"
  }
 },
 "nbformat": 4,
 "nbformat_minor": 5
}
